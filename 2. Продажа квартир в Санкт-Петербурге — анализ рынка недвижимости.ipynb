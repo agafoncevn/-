{
 "cells": [
  {
   "cell_type": "markdown",
   "metadata": {},
   "source": [
    "# Исследование объявлений о продаже квартир\n",
    "\n",
    "В вашем распоряжении данные сервиса Яндекс.Недвижимость — архив объявлений о продаже квартир в Санкт-Петербурге и соседних населённых пунктов за несколько лет. Нужно научиться определять рыночную стоимость объектов недвижимости. Ваша задача — установить параметры. Это позволит построить автоматизированную систему: она отследит аномалии и мошенническую деятельность. \n",
    "\n",
    "По каждой квартире на продажу доступны два вида данных. Первые вписаны пользователем, вторые — получены автоматически на основе картографических данных. Например, расстояние до центра, аэропорта, ближайшего парка и водоёма. "
   ]
  },
  {
   "cell_type": "markdown",
   "metadata": {},
   "source": [
    "### Откройте файл с данными и изучите общую информацию. "
   ]
  },
  {
   "cell_type": "code",
   "execution_count": 1,
   "metadata": {
    "scrolled": false
   },
   "outputs": [
    {
     "name": "stdout",
     "output_type": "stream",
     "text": [
      "   total_images  last_price  total_area first_day_exposition  rooms  \\\n",
      "0            20  13000000.0       108.0  2019-03-07T00:00:00      3   \n",
      "1             7   3350000.0        40.4  2018-12-04T00:00:00      1   \n",
      "2            10   5196000.0        56.0  2015-08-20T00:00:00      2   \n",
      "3             0  64900000.0       159.0  2015-07-24T00:00:00      3   \n",
      "4             2  10000000.0       100.0  2018-06-19T00:00:00      2   \n",
      "\n",
      "   ceiling_height  floors_total  living_area  floor is_apartment  ...  \\\n",
      "0            2.70          16.0         51.0      8          NaN  ...   \n",
      "1             NaN          11.0         18.6      1          NaN  ...   \n",
      "2             NaN           5.0         34.3      4          NaN  ...   \n",
      "3             NaN          14.0          NaN      9          NaN  ...   \n",
      "4            3.03          14.0         32.0     13          NaN  ...   \n",
      "\n",
      "   kitchen_area  balcony    locality_name  airports_nearest  \\\n",
      "0          25.0      NaN  Санкт-Петербург           18863.0   \n",
      "1          11.0      2.0   посёлок Шушары           12817.0   \n",
      "2           8.3      0.0  Санкт-Петербург           21741.0   \n",
      "3           NaN      0.0  Санкт-Петербург           28098.0   \n",
      "4          41.0      NaN  Санкт-Петербург           31856.0   \n",
      "\n",
      "  cityCenters_nearest  parks_around3000  parks_nearest  ponds_around3000  \\\n",
      "0             16028.0               1.0          482.0               2.0   \n",
      "1             18603.0               0.0            NaN               0.0   \n",
      "2             13933.0               1.0           90.0               2.0   \n",
      "3              6800.0               2.0           84.0               3.0   \n",
      "4              8098.0               2.0          112.0               1.0   \n",
      "\n",
      "   ponds_nearest  days_exposition  \n",
      "0          755.0              NaN  \n",
      "1            NaN             81.0  \n",
      "2          574.0            558.0  \n",
      "3          234.0            424.0  \n",
      "4           48.0            121.0  \n",
      "\n",
      "[5 rows x 22 columns]\n",
      "<class 'pandas.core.frame.DataFrame'>\n",
      "RangeIndex: 23699 entries, 0 to 23698\n",
      "Data columns (total 22 columns):\n",
      " #   Column                Non-Null Count  Dtype  \n",
      "---  ------                --------------  -----  \n",
      " 0   total_images          23699 non-null  int64  \n",
      " 1   last_price            23699 non-null  float64\n",
      " 2   total_area            23699 non-null  float64\n",
      " 3   first_day_exposition  23699 non-null  object \n",
      " 4   rooms                 23699 non-null  int64  \n",
      " 5   ceiling_height        14504 non-null  float64\n",
      " 6   floors_total          23613 non-null  float64\n",
      " 7   living_area           21796 non-null  float64\n",
      " 8   floor                 23699 non-null  int64  \n",
      " 9   is_apartment          2775 non-null   object \n",
      " 10  studio                23699 non-null  bool   \n",
      " 11  open_plan             23699 non-null  bool   \n",
      " 12  kitchen_area          21421 non-null  float64\n",
      " 13  balcony               12180 non-null  float64\n",
      " 14  locality_name         23650 non-null  object \n",
      " 15  airports_nearest      18157 non-null  float64\n",
      " 16  cityCenters_nearest   18180 non-null  float64\n",
      " 17  parks_around3000      18181 non-null  float64\n",
      " 18  parks_nearest         8079 non-null   float64\n",
      " 19  ponds_around3000      18181 non-null  float64\n",
      " 20  ponds_nearest         9110 non-null   float64\n",
      " 21  days_exposition       20518 non-null  float64\n",
      "dtypes: bool(2), float64(14), int64(3), object(3)\n",
      "memory usage: 3.7+ MB\n",
      "None\n",
      "total_images                0\n",
      "last_price                  0\n",
      "total_area                  0\n",
      "first_day_exposition        0\n",
      "rooms                       0\n",
      "ceiling_height           9195\n",
      "floors_total               86\n",
      "living_area              1903\n",
      "floor                       0\n",
      "is_apartment            20924\n",
      "studio                      0\n",
      "open_plan                   0\n",
      "kitchen_area             2278\n",
      "balcony                 11519\n",
      "locality_name              49\n",
      "airports_nearest         5542\n",
      "cityCenters_nearest      5519\n",
      "parks_around3000         5518\n",
      "parks_nearest           15620\n",
      "ponds_around3000         5518\n",
      "ponds_nearest           14589\n",
      "days_exposition          3181\n",
      "dtype: int64\n"
     ]
    },
    {
     "data": {
      "image/png": "[encoded data removed]",
      "text/plain": [
       "<Figure size 720x720 with 20 Axes>"
      ]
     },
     "metadata": {
      "needs_background": "light"
     },
     "output_type": "display_data"
    }
   ],
   "source": [
    "import pandas as pd\n",
    "data = pd.read_csv('/datasets/real_estate_data.csv', '\\t')\n",
    "data.hist(figsize = (10, 10))\n",
    "print(data.head())\n",
    "print(data.info())\n",
    "print(data.isna().sum())"
   ]
  },
  {
   "cell_type": "markdown",
   "metadata": {},
   "source": [
    "Сохраним данные в переменную data, чтобы понять с какими данными мы работает, посмотрим первые 5 строк методом head и общую информацию методом info, и по числовым построили гистограммы."
   ]
  },
  {
   "cell_type": "markdown",
   "metadata": {},
   "source": [
    "### Предобработка данных"
   ]
  },
  {
   "cell_type": "code",
   "execution_count": 2,
   "metadata": {},
   "outputs": [],
   "source": [
    "for i in data:\n",
    "    data.loc[(data['balcony'].isna()), 'balcony'] = 0\n",
    "    #data.loc[(data['living_area'].isna()) & (data['kitchen_area'].isna()), ('living_area' & 'kitchen_area')] = 0\n",
    "    \n",
    "    \n",
    "data_wt_liv_kitc_area = data.query('living_area.isna() == False and kitchen_area.isna() == False')\n"
   ]
  },
  {
   "cell_type": "markdown",
   "metadata": {},
   "source": [
    "Так как не имеет смысла для дальнейшего анализа квартир, в который нет данных по площади жилой и кухонной, удалим и сохраним в новый датафрейм. Также пропуски по балконам заполним 0, очевидно, что многие не ставят число, когда чего-то нет."
   ]
  },
  {
   "cell_type": "code",
   "execution_count": 3,
   "metadata": {},
   "outputs": [],
   "source": [
    "for i in data['ceiling_height']:\n",
    "    if i > 20:\n",
    "        data.loc[data['ceiling_height'] == i, 'ceiling_height'] = data.loc[data['ceiling_height'] == i, 'ceiling_height']/10\n",
    "    data.loc[(data['ceiling_height'] == i) & (data['ceiling_height'].isna() == True), 'ceiling_height'] = data['ceiling_height'].median() \n",
    "    \n",
    "data = data.query('2 <= ceiling_height <= 5')\n"
   ]
  },
  {
   "cell_type": "markdown",
   "metadata": {},
   "source": [
    "В данных по полоткам были пропуски - логичнее всего заменить их медианным значением 2.65, те значение, которые были аномальны и не поддавались логике ошибки, например 23 м - явно ошибка, имели ввиду 2.3 м, такие значение мы превратили в правильные. А вот значения по типу 8м, 10 м, очень странные, слишком уж большие значение. Также и со значениями меньше 2м. Поэтому в финальную таблицу, с которой мы будем работать дальше, попадут те значения, где высота потолков лежит в пределах от 2 до 5 метров."
   ]
  },
  {
   "cell_type": "code",
   "execution_count": 4,
   "metadata": {},
   "outputs": [],
   "source": [
    "data = data.query('floors_total.isna() == False')\n"
   ]
  },
  {
   "cell_type": "markdown",
   "metadata": {},
   "source": [
    "Так как пропуски в этажности дома сложно заполнить чем-то весомым, что не влияло бы на дальнейшие расчёты, проще удалить эти строчки, тем более их всего 9, а данных 14 тысяч, на исследование не повлияет."
   ]
  },
  {
   "cell_type": "code",
   "execution_count": 5,
   "metadata": {},
   "outputs": [],
   "source": [
    "data = data.reset_index(drop=True)\n",
    "for i in data:\n",
    "    data.loc[data['living_area'].isna(), 'living_area'] = data['living_area'].median()\n",
    "    data.loc[data['kitchen_area'].isna(), 'kitchen_area'] = data['kitchen_area'].median()"
   ]
  },
  {
   "cell_type": "markdown",
   "metadata": {},
   "source": [
    "Заменим пропуски в квадратуре жилой площади и кухонной медианными значениями по этой категории. На медиану не повлияют выбросы, что хорошо для нас."
   ]
  },
  {
   "cell_type": "code",
   "execution_count": 6,
   "metadata": {},
   "outputs": [],
   "source": [
    "\n",
    "for i in data:\n",
    "    data.loc[data['is_apartment'].isna(), 'is_apartment'] = False\n",
    "data = data.query('locality_name.isna() == False')\n",
    "\n",
    "def replace_name(location_list, wrongs):\n",
    "    for i in wrongs:\n",
    "        location_list = location_list.str.replace(i, '')\n",
    "    return location_list\n",
    "\n",
    "locates = ['посёлок ', 'поселок ', 'деревня ', 'городского типа ', 'коттеджный ', 'село ', 'городской ', 'садоводческое некоммерческое товарищество ', 'садовое товарищество ', 'имени ', 'при железнодорожной станции ', 'станции ']  \n",
    "data['locality_name_new'] = replace_name(data['locality_name'], locates)"
   ]
  },
  {
   "cell_type": "markdown",
   "metadata": {},
   "source": [
    "Пропуски в названии локации нельзя заполнить тем, чтобы не повлияло на исследование. Но их всего 14, так что если их просто удалить, это не повлияет на наши исследования. С оcтальными дубликатами боремся так - убираем наименование объекта, оставляя только название и добавим их в новый столбец.\n"
   ]
  },
  {
   "cell_type": "code",
   "execution_count": 7,
   "metadata": {},
   "outputs": [
    {
     "name": "stdout",
     "output_type": "stream",
     "text": [
      "total_images               0\n",
      "last_price                 0\n",
      "total_area                 0\n",
      "first_day_exposition       0\n",
      "rooms                      0\n",
      "ceiling_height             0\n",
      "floors_total               0\n",
      "living_area                0\n",
      "floor                      0\n",
      "is_apartment               0\n",
      "studio                     0\n",
      "open_plan                  0\n",
      "kitchen_area               0\n",
      "balcony                    0\n",
      "locality_name              0\n",
      "airports_nearest        2959\n",
      "cityCenters_nearest     2939\n",
      "parks_around3000        2938\n",
      "parks_nearest           9189\n",
      "ponds_around3000        2938\n",
      "ponds_nearest           8758\n",
      "days_exposition         2447\n",
      "locality_name_new          0\n",
      "dtype: int64\n"
     ]
    }
   ],
   "source": [
    "print(data.isna().sum())"
   ]
  },
  {
   "cell_type": "code",
   "execution_count": 8,
   "metadata": {
    "scrolled": true
   },
   "outputs": [
    {
     "name": "stdout",
     "output_type": "stream",
     "text": [
      "0   2019-05-03\n",
      "1   2019-05-03\n",
      "2   2019-05-03\n",
      "3   2019-05-03\n",
      "4   2019-05-03\n",
      "Name: data_now, dtype: datetime64[ns]\n"
     ]
    }
   ],
   "source": [
    "for i in data:\n",
    "    data.loc[data['parks_around3000'].isna(), 'parks_around3000'] = 0\n",
    "\n",
    "for i in data:\n",
    "    data.loc[data['ponds_around3000'].isna(), 'ponds_around3000'] = 0\n",
    "for i in data:\n",
    "    data.loc[data['days_exposition'].isna(), 'days_exposition'] = 0\n",
    "    \n",
    "for i in data:\n",
    "    data.loc[data['cityCenters_nearest'].isna(), 'cityCenters_nearest'] = 0\n",
    "\n",
    "data['floors_total'] = data['floors_total'].astype(int)\n",
    "data['balcony'] = data['balcony'].astype(int)\n",
    "data['last_price'] = data['last_price'].astype(int) #перевёл цену в целочисленный тип\n",
    "data['days_exposition'] = data['days_exposition'].astype(int)\n",
    "data['parks_around3000'] = data['parks_around3000'].astype(int)\n",
    "data['ponds_around3000'] = data['ponds_around3000'].astype(int)\n",
    "data['first_day_exposition'] = pd.to_datetime(data['first_day_exposition'], format='%Y-%m-%d %H:%M')\n",
    "data['data_now'] = data['first_day_exposition'][1977] \n",
    "data['data_now'] = data['data_now'][0]\n",
    "for i in data:\n",
    "    data.loc[data['days_exposition'].isna(), 'days_exposition'] = (data['data_now'] - data['first_day_exposition']).dt.days\n",
    "print(data['data_now'].head())"
   ]
  },
  {
   "cell_type": "code",
   "execution_count": 9,
   "metadata": {},
   "outputs": [
    {
     "name": "stdout",
     "output_type": "stream",
     "text": [
      "0\n"
     ]
    }
   ],
   "source": [
    "print(data.duplicated().sum())"
   ]
  },
  {
   "cell_type": "markdown",
   "metadata": {},
   "source": [
    "Поменяли тип на целочисленный, там, где это возможно. Также заполнили пропуски по по количеству ближайших парков и прудов значением 0, так как скорее всего пр  их отсутвие многие не указывают. Пропуски по количеству дней экспозиции - добавили в таблицу новый столбик с датой, на которую взяли данные(вычислили это сортировкой столибка по датам, приняв самую большую дату за последнюю), далее заполнили пропуски разницей между сегодняшней датой и датой выкладывания"
   ]
  },
  {
   "cell_type": "markdown",
   "metadata": {},
   "source": [
    "### Посчитайте и добавьте в таблицу новые столбцы"
   ]
  },
  {
   "cell_type": "code",
   "execution_count": 10,
   "metadata": {},
   "outputs": [],
   "source": [
    "data['price_one_square'] = data['last_price']/data['total_area']"
   ]
  },
  {
   "cell_type": "markdown",
   "metadata": {},
   "source": [
    "Считаем цену за квадратный метр простым делением цены на общую площадь\n"
   ]
  },
  {
   "cell_type": "code",
   "execution_count": 11,
   "metadata": {},
   "outputs": [],
   "source": [
    "data['weekday'] = data['first_day_exposition'].dt.weekday "
   ]
  },
  {
   "cell_type": "markdown",
   "metadata": {},
   "source": [
    "Определяем день недели публикации"
   ]
  },
  {
   "cell_type": "code",
   "execution_count": 12,
   "metadata": {},
   "outputs": [],
   "source": [
    "data['month'] = data['first_day_exposition'].dt.month\n",
    "data['year'] = data['first_day_exposition'].dt.year"
   ]
  },
  {
   "cell_type": "markdown",
   "metadata": {},
   "source": [
    "Определили месяц и год публикации"
   ]
  },
  {
   "cell_type": "code",
   "execution_count": 13,
   "metadata": {},
   "outputs": [],
   "source": [
    "def type_floor(floor):\n",
    "    if floor['floor'] == 1:\n",
    "        return 'Первый'\n",
    "    if floor['floor'] == floor['floors_total']:\n",
    "        return 'Последний'\n",
    "    else:\n",
    "        return 'Другой'\n",
    "    \n",
    "data['type_floor'] = data.apply(type_floor, axis=1)"
   ]
  },
  {
   "cell_type": "markdown",
   "metadata": {},
   "source": [
    "Заполнили тип этажа, через функцию, которая сравнивает этаж со значением 1 или со значением в колонке floors_total"
   ]
  },
  {
   "cell_type": "code",
   "execution_count": 14,
   "metadata": {},
   "outputs": [],
   "source": [
    "data['cityCenters_nearest_km'] = round(data['cityCenters_nearest']/1000)"
   ]
  },
  {
   "cell_type": "markdown",
   "metadata": {},
   "source": [
    "Создали новый столбец, где храним расстояние до ближайшего города в километрах"
   ]
  },
  {
   "cell_type": "markdown",
   "metadata": {},
   "source": [
    "### Проведите исследовательский анализ данных"
   ]
  },
  {
   "cell_type": "code",
   "execution_count": 15,
   "metadata": {},
   "outputs": [
    {
     "data": {
      "text/plain": [
       "<AxesSubplot:>"
      ]
     },
     "execution_count": 15,
     "metadata": {},
     "output_type": "execute_result"
    },
    {
     "data": {
      "image/png": "[encoded data removed]",
      "text/plain": [
       "<Figure size 432x288 with 1 Axes>"
      ]
     },
     "metadata": {
      "needs_background": "light"
     },
     "output_type": "display_data"
    }
   ],
   "source": [
    "data['total_area'].hist(bins=100, range=(0,150))\n"
   ]
  },
  {
   "cell_type": "markdown",
   "metadata": {},
   "source": [
    "Гистограмма распределения общей площади"
   ]
  },
  {
   "cell_type": "code",
   "execution_count": 16,
   "metadata": {},
   "outputs": [
    {
     "data": {
      "text/plain": [
       "<AxesSubplot:>"
      ]
     },
     "execution_count": 16,
     "metadata": {},
     "output_type": "execute_result"
    },
    {
     "data": {
      "image/png": "[encoded data removed]",
      "text/plain": [
       "<Figure size 432x288 with 1 Axes>"
      ]
     },
     "metadata": {
      "needs_background": "light"
     },
     "output_type": "display_data"
    }
   ],
   "source": [
    "data['living_area'].hist(range=(0,200))"
   ]
  },
  {
   "cell_type": "markdown",
   "metadata": {},
   "source": [
    "Гистограмма распределения общей площади жилой"
   ]
  },
  {
   "cell_type": "code",
   "execution_count": 17,
   "metadata": {},
   "outputs": [
    {
     "data": {
      "text/plain": [
       "<AxesSubplot:>"
      ]
     },
     "execution_count": 17,
     "metadata": {},
     "output_type": "execute_result"
    },
    {
     "data": {
      "image/png": "[encoded data removed]",
      "text/plain": [
       "<Figure size 432x288 with 1 Axes>"
      ]
     },
     "metadata": {
      "needs_background": "light"
     },
     "output_type": "display_data"
    }
   ],
   "source": [
    "data['kitchen_area'].hist(bins=100, range=(0,50))"
   ]
  },
  {
   "cell_type": "markdown",
   "metadata": {},
   "source": [
    "Гистограмма распределения площади кухни"
   ]
  },
  {
   "cell_type": "code",
   "execution_count": 18,
   "metadata": {},
   "outputs": [
    {
     "data": {
      "text/plain": [
       "<AxesSubplot:>"
      ]
     },
     "execution_count": 18,
     "metadata": {},
     "output_type": "execute_result"
    },
    {
     "data": {
      "image/png": "[encoded data removed]",
      "text/plain": [
       "<Figure size 432x288 with 1 Axes>"
      ]
     },
     "metadata": {
      "needs_background": "light"
     },
     "output_type": "display_data"
    }
   ],
   "source": [
    "data['last_price'].hist(bins=100, range=(0, 30000000))\n"
   ]
  },
  {
   "cell_type": "markdown",
   "metadata": {},
   "source": [
    "Гистограмма распределения по цене "
   ]
  },
  {
   "cell_type": "code",
   "execution_count": 19,
   "metadata": {},
   "outputs": [
    {
     "data": {
      "text/plain": [
       "<AxesSubplot:>"
      ]
     },
     "execution_count": 19,
     "metadata": {},
     "output_type": "execute_result"
    },
    {
     "data": {
      "image/png": "[encoded data removed]",
      "text/plain": [
       "<Figure size 432x288 with 1 Axes>"
      ]
     },
     "metadata": {
      "needs_background": "light"
     },
     "output_type": "display_data"
    }
   ],
   "source": [
    "data['rooms'].hist(range=(0,12))"
   ]
  },
  {
   "cell_type": "code",
   "execution_count": 20,
   "metadata": {},
   "outputs": [
    {
     "data": {
      "text/plain": [
       "<AxesSubplot:>"
      ]
     },
     "execution_count": 20,
     "metadata": {},
     "output_type": "execute_result"
    },
    {
     "data": {
      "image/png": "[encoded data removed]",
      "text/plain": [
       "<Figure size 432x288 with 1 Axes>"
      ]
     },
     "metadata": {
      "needs_background": "light"
     },
     "output_type": "display_data"
    }
   ],
   "source": [
    "data['ceiling_height'].hist(range=(2,5))"
   ]
  },
  {
   "cell_type": "code",
   "execution_count": 21,
   "metadata": {},
   "outputs": [
    {
     "data": {
      "text/plain": [
       "<AxesSubplot:>"
      ]
     },
     "execution_count": 21,
     "metadata": {},
     "output_type": "execute_result"
    },
    {
     "data": {
      "image/png": "[encoded data removed]",
      "text/plain": [
       "<Figure size 432x288 with 1 Axes>"
      ]
     },
     "metadata": {
      "needs_background": "light"
     },
     "output_type": "display_data"
    }
   ],
   "source": [
    "data['floor'].hist(range=(1,30))"
   ]
  },
  {
   "cell_type": "code",
   "execution_count": 22,
   "metadata": {},
   "outputs": [
    {
     "data": {
      "text/plain": [
       "<AxesSubplot:>"
      ]
     },
     "execution_count": 22,
     "metadata": {},
     "output_type": "execute_result"
    },
    {
     "data": {
      "image/png": "[encoded data removed]",
      "text/plain": [
       "<Figure size 432x288 with 1 Axes>"
      ]
     },
     "metadata": {
      "needs_background": "light"
     },
     "output_type": "display_data"
    }
   ],
   "source": [
    "\n",
    "data['type_floor'].value_counts().hist()"
   ]
  },
  {
   "cell_type": "code",
   "execution_count": 23,
   "metadata": {},
   "outputs": [
    {
     "data": {
      "text/plain": [
       "<AxesSubplot:>"
      ]
     },
     "execution_count": 23,
     "metadata": {},
     "output_type": "execute_result"
    },
    {
     "data": {
      "image/png": "[encoded data removed]",
      "text/plain": [
       "<Figure size 432x288 with 1 Axes>"
      ]
     },
     "metadata": {
      "needs_background": "light"
     },
     "output_type": "display_data"
    }
   ],
   "source": [
    "data['floors_total'].hist(range=(1,30))"
   ]
  },
  {
   "cell_type": "code",
   "execution_count": 24,
   "metadata": {},
   "outputs": [
    {
     "data": {
      "text/plain": [
       "<AxesSubplot:>"
      ]
     },
     "execution_count": 24,
     "metadata": {},
     "output_type": "execute_result"
    },
    {
     "data": {
      "image/png": "[encoded data removed]",
      "text/plain": [
       "<Figure size 432x288 with 1 Axes>"
      ]
     },
     "metadata": {
      "needs_background": "light"
     },
     "output_type": "display_data"
    }
   ],
   "source": [
    "data['type_floor'].hist()"
   ]
  },
  {
   "cell_type": "markdown",
   "metadata": {},
   "source": [
    "Зависимость цены от типа этажа"
   ]
  },
  {
   "cell_type": "code",
   "execution_count": 25,
   "metadata": {},
   "outputs": [
    {
     "data": {
      "text/plain": [
       "<AxesSubplot:>"
      ]
     },
     "execution_count": 25,
     "metadata": {},
     "output_type": "execute_result"
    },
    {
     "data": {
      "image/png": "[encoded data removed]",
      "text/plain": [
       "<Figure size 432x288 with 1 Axes>"
      ]
     },
     "metadata": {
      "needs_background": "light"
     },
     "output_type": "display_data"
    }
   ],
   "source": [
    "data['cityCenters_nearest'].hist()"
   ]
  },
  {
   "cell_type": "code",
   "execution_count": 26,
   "metadata": {},
   "outputs": [
    {
     "data": {
      "text/plain": [
       "<AxesSubplot:>"
      ]
     },
     "execution_count": 26,
     "metadata": {},
     "output_type": "execute_result"
    },
    {
     "data": {
      "image/png": "[encoded data removed]",
      "text/plain": [
       "<Figure size 432x288 with 1 Axes>"
      ]
     },
     "metadata": {
      "needs_background": "light"
     },
     "output_type": "display_data"
    }
   ],
   "source": [
    "data['airports_nearest'].hist()"
   ]
  },
  {
   "cell_type": "code",
   "execution_count": 27,
   "metadata": {},
   "outputs": [
    {
     "data": {
      "text/plain": [
       "<AxesSubplot:>"
      ]
     },
     "execution_count": 27,
     "metadata": {},
     "output_type": "execute_result"
    },
    {
     "data": {
      "image/png": "[encoded data removed]",
      "text/plain": [
       "<Figure size 432x288 with 1 Axes>"
      ]
     },
     "metadata": {
      "needs_background": "light"
     },
     "output_type": "display_data"
    }
   ],
   "source": [
    "data['parks_nearest'].hist()"
   ]
  },
  {
   "cell_type": "code",
   "execution_count": 28,
   "metadata": {},
   "outputs": [
    {
     "data": {
      "text/plain": [
       "<AxesSubplot:>"
      ]
     },
     "execution_count": 28,
     "metadata": {},
     "output_type": "execute_result"
    },
    {
     "data": {
      "image/png": "[encoded data removed]",
      "text/plain": [
       "<Figure size 432x288 with 1 Axes>"
      ]
     },
     "metadata": {
      "needs_background": "light"
     },
     "output_type": "display_data"
    }
   ],
   "source": [
    "data['month'].hist()"
   ]
  },
  {
   "cell_type": "code",
   "execution_count": 29,
   "metadata": {},
   "outputs": [
    {
     "data": {
      "text/plain": [
       "<AxesSubplot:>"
      ]
     },
     "execution_count": 29,
     "metadata": {},
     "output_type": "execute_result"
    },
    {
     "data": {
      "image/png": "[encoded data removed]",
      "text/plain": [
       "<Figure size 432x288 with 1 Axes>"
      ]
     },
     "metadata": {
      "needs_background": "light"
     },
     "output_type": "display_data"
    }
   ],
   "source": [
    "data['year'].hist()"
   ]
  },
  {
   "cell_type": "markdown",
   "metadata": {},
   "source": [
    "Наблюдения по графикам: наиболее часто встречаемые предложения с общей площадью от 25 до 75, с жилой от 30 до 40, c площадью кухни от 5 до 10 метров, в ценовом диапазоне от 250 тыс до 750 тыс, с 1-2 комнатами, высотой потолоков 2.5-2.75 метров, на этажах ниже 5. Также преимущественно представлены объявления опубликованные в 2018 году, в январе или декабре, с растооянием до центра города в пределах 10000 метров, до аэоропорта - 20000 метров, до ближайшего парка - 500 метров."
   ]
  },
  {
   "cell_type": "code",
   "execution_count": 30,
   "metadata": {},
   "outputs": [
    {
     "name": "stdout",
     "output_type": "stream",
     "text": [
      "158.01424324137454\n",
      "72.0\n"
     ]
    },
    {
     "data": {
      "text/plain": [
       "count    14463.000000\n",
       "mean       158.014243\n",
       "std        220.147054\n",
       "min          0.000000\n",
       "25%         16.500000\n",
       "50%         72.000000\n",
       "75%        201.500000\n",
       "max       1580.000000\n",
       "Name: days_exposition, dtype: float64"
      ]
     },
     "execution_count": 30,
     "metadata": {},
     "output_type": "execute_result"
    },
    {
     "data": {
      "image/png": "[encoded data removed]",
      "text/plain": [
       "<Figure size 432x288 with 1 Axes>"
      ]
     },
     "metadata": {
      "needs_background": "light"
     },
     "output_type": "display_data"
    }
   ],
   "source": [
    "data['days_exposition'].hist()\n",
    "print(data['days_exposition'].mean())\n",
    "print(data['days_exposition'].median())\n",
    "data['days_exposition'].describe()"
   ]
  },
  {
   "cell_type": "markdown",
   "metadata": {},
   "source": [
    "в среднем продажа занимает 72 дня, быстрыми можно считать значения, меньше 25% квартиля, то есть менябше 16 дней, необычно долгими - значения, больше 202 дней."
   ]
  },
  {
   "cell_type": "code",
   "execution_count": 44,
   "metadata": {},
   "outputs": [
    {
     "name": "stdout",
     "output_type": "stream",
     "text": [
      "0.7118739376178385\n"
     ]
    },
    {
     "data": {
      "image/png": "[encoded data removed]",
      "text/plain": [
       "<Figure size 576x432 with 1 Axes>"
      ]
     },
     "metadata": {
      "needs_background": "light"
     },
     "output_type": "display_data"
    }
   ],
   "source": [
    "data.query('last_price < 15000000').plot(x='total_area', y='last_price', kind='scatter',  figsize=(8, 6))\n",
    "print(data['last_price'].corr(data['total_area']))"
   ]
  },
  {
   "cell_type": "markdown",
   "metadata": {},
   "source": [
    "По графику видно, что существует зависимость цены от общей квадратуры, причём зависимость прямая, коэффицент Пирсона только подтверждает это 0.71 - связь есть и достаточно неплохая."
   ]
  },
  {
   "cell_type": "code",
   "execution_count": 32,
   "metadata": {},
   "outputs": [
    {
     "name": "stdout",
     "output_type": "stream",
     "text": [
      "0.5880167880577793\n"
     ]
    },
    {
     "data": {
      "image/png": "[encoded data removed]",
      "text/plain": [
       "<Figure size 576x432 with 2 Axes>"
      ]
     },
     "metadata": {
      "needs_background": "light"
     },
     "output_type": "display_data"
    }
   ],
   "source": [
    "data.query('last_price < 15000000').plot(x='living_area', y='last_price', kind='hexbin', gridsize=20, figsize=(8, 6), sharex=False)\n",
    "print(data['last_price'].corr(data['living_area']))"
   ]
  },
  {
   "cell_type": "markdown",
   "metadata": {},
   "source": [
    "Здесь связь уже не такая большая, но есть. Всё-таки покупателям недвижимости важна не только жилая площадь."
   ]
  },
  {
   "cell_type": "code",
   "execution_count": 33,
   "metadata": {},
   "outputs": [
    {
     "name": "stdout",
     "output_type": "stream",
     "text": [
      "0.5101477799179588\n"
     ]
    },
    {
     "data": {
      "image/png": "[encoded data removed]",
      "text/plain": [
       "<Figure size 576x432 with 2 Axes>"
      ]
     },
     "metadata": {
      "needs_background": "light"
     },
     "output_type": "display_data"
    }
   ],
   "source": [
    "data.query('last_price < 15000000').plot(x='kitchen_area', y='last_price', kind='hexbin', gridsize=20, figsize=(8, 6), sharex=False)\n",
    "print(data['last_price'].corr(data['kitchen_area']))"
   ]
  },
  {
   "cell_type": "markdown",
   "metadata": {},
   "source": [
    "Пощадь кухни тоже не особо важна, видимо для кулинарных шедевров не так много надо)"
   ]
  },
  {
   "cell_type": "code",
   "execution_count": 34,
   "metadata": {},
   "outputs": [
    {
     "name": "stdout",
     "output_type": "stream",
     "text": [
      "0.40113628359619286\n"
     ]
    },
    {
     "data": {
      "image/png": "[encoded data removed]",
      "text/plain": [
       "<Figure size 576x432 with 2 Axes>"
      ]
     },
     "metadata": {
      "needs_background": "light"
     },
     "output_type": "display_data"
    }
   ],
   "source": [
    "data.query('last_price < 15000000').plot(x='rooms', y='last_price', kind='hexbin', gridsize=20, figsize=(8, 6), sharex=False)\n",
    "print(data['last_price'].corr(data['rooms']))"
   ]
  },
  {
   "cell_type": "markdown",
   "metadata": {},
   "source": [
    "Странно, но количество комнат не ключевой фактор цены квартиры, всё-таки 100 квадратов в однушке лучше, чем 50 в двушке)"
   ]
  },
  {
   "cell_type": "code",
   "execution_count": 35,
   "metadata": {},
   "outputs": [
    {
     "data": {
      "text/plain": [
       "<AxesSubplot:xlabel='type_floor'>"
      ]
     },
     "execution_count": 35,
     "metadata": {},
     "output_type": "execute_result"
    },
    {
     "data": {
      "image/png": "[encoded data removed]",
      "text/plain": [
       "<Figure size 864x360 with 1 Axes>"
      ]
     },
     "metadata": {
      "needs_background": "light"
     },
     "output_type": "display_data"
    }
   ],
   "source": [
    "data.query('last_price < 15000000').pivot_table(index='type_floor', values='last_price', aggfunc='median').plot(grid=True, figsize=(12, 5))\n"
   ]
  },
  {
   "cell_type": "code",
   "execution_count": 36,
   "metadata": {},
   "outputs": [
    {
     "name": "stdout",
     "output_type": "stream",
     "text": [
      "0.0034554911496788637\n"
     ]
    },
    {
     "data": {
      "image/png": "[encoded data removed]",
      "text/plain": [
       "<Figure size 864x360 with 1 Axes>"
      ]
     },
     "metadata": {
      "needs_background": "light"
     },
     "output_type": "display_data"
    }
   ],
   "source": [
    "data.query('last_price < 15000000').pivot_table(index='month', values='last_price', aggfunc='median').plot(grid=True, figsize=(12, 5))\n",
    "print(data['last_price'].corr(data['month']))"
   ]
  },
  {
   "cell_type": "markdown",
   "metadata": {},
   "source": [
    "Как можно заметить, народ просыпается после зимней спячки и охотно покупает недвижимость, пока на дачу не уехали, конечно.) А так, зависимости цены от этого никакой"
   ]
  },
  {
   "cell_type": "code",
   "execution_count": 37,
   "metadata": {},
   "outputs": [
    {
     "data": {
      "text/plain": [
       "<AxesSubplot:xlabel='year'>"
      ]
     },
     "execution_count": 37,
     "metadata": {},
     "output_type": "execute_result"
    },
    {
     "data": {
      "image/png": "[encoded data removed]",
      "text/plain": [
       "<Figure size 864x360 with 1 Axes>"
      ]
     },
     "metadata": {
      "needs_background": "light"
     },
     "output_type": "display_data"
    }
   ],
   "source": [
    "data.query('last_price < 15000000').pivot_table(index='year', values='last_price', aggfunc='median').plot(grid=True, figsize=(12, 5))"
   ]
  },
  {
   "cell_type": "markdown",
   "metadata": {},
   "source": [
    "2014 год тряхнул сильно, что только после 2017 спрос на недвижимость стал расти, а не падать, оно и логично"
   ]
  },
  {
   "cell_type": "code",
   "execution_count": 38,
   "metadata": {},
   "outputs": [
    {
     "data": {
      "text/plain": [
       "<AxesSubplot:xlabel='weekday'>"
      ]
     },
     "execution_count": 38,
     "metadata": {},
     "output_type": "execute_result"
    },
    {
     "data": {
      "image/png": "[encoded data removed]",
      "text/plain": [
       "<Figure size 864x360 with 1 Axes>"
      ]
     },
     "metadata": {
      "needs_background": "light"
     },
     "output_type": "display_data"
    }
   ],
   "source": [
    "data.query('last_price < 15000000').pivot_table(index='weekday', values='last_price', aggfunc='median').plot(grid=True, figsize=(12, 5))"
   ]
  },
  {
   "cell_type": "code",
   "execution_count": 39,
   "metadata": {},
   "outputs": [
    {
     "name": "stdout",
     "output_type": "stream",
     "text": [
      "                             count           median\n",
      "                  price_one_square price_one_square\n",
      "locality_name_new                                  \n",
      "Санкт-Петербург              10081    105699.185831\n",
      "Всеволожск                     272     65737.874097\n",
      "Пушкин                         234    100000.000000\n",
      "Мурино                         228     86432.673131\n",
      "Шушары                         216     77661.027977\n",
      "Колпино                        203     74725.274725\n",
      "Кудрово                        195     96540.969663\n",
      "Гатчина                        149     68604.651163\n",
      "Петергоф                       145     82142.857143\n",
      "Парголово                      137     91040.462428\n"
     ]
    }
   ],
   "source": [
    "print(data.pivot_table(index='locality_name_new', values='price_one_square', aggfunc=['count', 'median']).sort_values(by=[( 'count', 'price_one_square')], ascending=False).head(10))"
   ]
  },
  {
   "cell_type": "code",
   "execution_count": 40,
   "metadata": {},
   "outputs": [
    {
     "data": {
      "text/plain": [
       "<AxesSubplot:xlabel='cityCenters_nearest_km'>"
      ]
     },
     "execution_count": 40,
     "metadata": {},
     "output_type": "execute_result"
    },
    {
     "data": {
      "image/png": "[encoded data removed]",
      "text/plain": [
       "<Figure size 864x360 with 1 Axes>"
      ]
     },
     "metadata": {
      "needs_background": "light"
     },
     "output_type": "display_data"
    }
   ],
   "source": [
    "data.query('locality_name_new == \"Санкт-Петербург\"').pivot_table(index='cityCenters_nearest_km', values='last_price', aggfunc='median').plot(grid=True, figsize=(12, 5))\n"
   ]
  },
  {
   "cell_type": "markdown",
   "metadata": {},
   "source": [
    "Также виден всплеск по цене в диапазоне от 25 до 30 км, скорее всего это связано с тем, что сюда попадают объявления в категории коттеджей и домов, а они всегда были в цене"
   ]
  },
  {
   "cell_type": "markdown",
   "metadata": {},
   "source": [
    "Вывод: самые дрогой квадратный метр в Санкт-Петербурге, Пушкине и Кудрово. Также, чем ближе к центру Санкт-Петербурга, тем дороже квартиры, самые дорогие в диапазоне 2-3 км до центра.\n",
    "Также, логично, что чем больше по площади квартира, тем она, как правило дороже. По этажности самые дорогие находятся не на первом и не на последнем. На первом - самые дешёвые. Самые дорогие объявление выложены в 2014 году. Также в апреле и во вторник публикуются, как правило самые дорогостоящие квартиры."
   ]
  },
  {
   "cell_type": "markdown",
   "metadata": {},
   "source": [
    "### Общий вывод"
   ]
  },
  {
   "cell_type": "markdown",
   "metadata": {},
   "source": [
    "Общий вывод: проведя исследование, можно сказать, что самая дорогая недвижимость находится в Санкт-Петербурге, как правило в районе 2-3 км от центра, с площадью около 200 квадратных метров. \n",
    "Наиболее часто встречаемые предложения с общей площадью от 25 до 75, с жилой от 30 до 40, c площадью кухни от 5 до 10 метров, в ценовом диапазоне от 250 тыс до 750 тыс, с 1-2 комнатами, высотой потолоков 2.5-2.75 метров, на этажах ниже 5. \n",
    "Также мы можем сказать, что в среднем на продажу квартиры тратится 72 дня, если это значение превышает 158 дней - то это можно считать долгим объявлением."
   ]
  },
  {
   "cell_type": "markdown",
   "metadata": {},
   "source": [
    "В ходе работы мною было осуществлено следующее:\n",
    "Избавились от пробелах в данных\n",
    "Убрали строчки данных, где значения были аномальными\n",
    "Поработали с дубликатами, превратив их в единое целое\n",
    "Рассчитали цену за квадратный метр\n",
    "Поставили каждому объекту тип, в зависимости от этажа\n",
    "Изучили, что в основном выбирают потребители\n",
    "Посмотрели, что оказывает и как оказывает влияние на цену объекта"
   ]
  }
 ],
 "metadata": {
  "ExecuteTimeLog": [
   {
    "duration": 720,
    "start_time": "2022-11-24T06:40:39.933Z"
   },
   {
    "duration": 478,
    "start_time": "2022-11-24T06:41:13.303Z"
   },
   {
    "duration": 92,
    "start_time": "2022-11-24T06:41:57.678Z"
   },
   {
    "duration": 107,
    "start_time": "2022-11-24T06:43:39.114Z"
   },
   {
    "duration": 1578,
    "start_time": "2022-11-24T06:44:10.124Z"
   },
   {
    "duration": 1478,
    "start_time": "2022-11-24T06:48:08.011Z"
   },
   {
    "duration": 17,
    "start_time": "2022-11-24T07:37:38.813Z"
   },
   {
    "duration": 12,
    "start_time": "2022-11-24T07:51:56.748Z"
   },
   {
    "duration": 11,
    "start_time": "2022-11-24T07:53:45.972Z"
   },
   {
    "duration": 4,
    "start_time": "2022-11-24T08:12:22.846Z"
   },
   {
    "duration": 8,
    "start_time": "2022-11-24T08:13:25.892Z"
   },
   {
    "duration": 1394,
    "start_time": "2022-11-24T08:17:33.183Z"
   },
   {
    "duration": 16,
    "start_time": "2022-11-24T08:18:28.396Z"
   },
   {
    "duration": 44,
    "start_time": "2022-11-24T08:30:46.405Z"
   },
   {
    "duration": 43,
    "start_time": "2022-11-24T08:32:57.070Z"
   },
   {
    "duration": 34,
    "start_time": "2022-11-24T08:35:24.839Z"
   },
   {
    "duration": 11,
    "start_time": "2022-11-24T08:39:13.121Z"
   },
   {
    "duration": 34,
    "start_time": "2022-11-24T08:40:21.176Z"
   },
   {
    "duration": 23,
    "start_time": "2022-11-24T08:40:45.023Z"
   },
   {
    "duration": 2138,
    "start_time": "2022-11-24T08:40:57.130Z"
   },
   {
    "duration": 73,
    "start_time": "2022-11-24T08:40:59.270Z"
   },
   {
    "duration": 2392,
    "start_time": "2022-11-24T08:43:20.588Z"
   },
   {
    "duration": 41,
    "start_time": "2022-11-24T08:43:22.984Z"
   },
   {
    "duration": 27,
    "start_time": "2022-11-24T08:46:27.123Z"
   },
   {
    "duration": 25,
    "start_time": "2022-11-24T08:53:07.456Z"
   },
   {
    "duration": 47,
    "start_time": "2022-11-24T08:56:26.456Z"
   },
   {
    "duration": 38,
    "start_time": "2022-11-24T08:56:36.973Z"
   },
   {
    "duration": 14,
    "start_time": "2022-11-24T08:57:17.016Z"
   },
   {
    "duration": 19,
    "start_time": "2022-11-24T08:57:32.035Z"
   },
   {
    "duration": 2304,
    "start_time": "2022-11-24T09:00:33.303Z"
   },
   {
    "duration": 63,
    "start_time": "2022-11-24T09:00:35.609Z"
   },
   {
    "duration": 41130,
    "start_time": "2022-11-24T09:00:35.675Z"
   },
   {
    "duration": 2235,
    "start_time": "2022-11-24T09:02:57.888Z"
   },
   {
    "duration": 67,
    "start_time": "2022-11-24T09:03:00.125Z"
   },
   {
    "duration": 41200,
    "start_time": "2022-11-24T09:03:00.193Z"
   },
   {
    "duration": 9,
    "start_time": "2022-11-24T10:07:04.664Z"
   },
   {
    "duration": 5,
    "start_time": "2022-11-24T10:08:42.236Z"
   },
   {
    "duration": 11,
    "start_time": "2022-11-24T10:09:32.851Z"
   },
   {
    "duration": 8,
    "start_time": "2022-11-24T10:10:31.039Z"
   },
   {
    "duration": 3,
    "start_time": "2022-11-24T10:11:07.766Z"
   },
   {
    "duration": 30,
    "start_time": "2022-11-24T10:21:29.622Z"
   },
   {
    "duration": 25,
    "start_time": "2022-11-24T10:22:23.537Z"
   },
   {
    "duration": 26,
    "start_time": "2022-11-24T10:22:52.340Z"
   },
   {
    "duration": 9,
    "start_time": "2022-11-24T10:23:28.496Z"
   },
   {
    "duration": 84,
    "start_time": "2022-11-24T10:45:43.020Z"
   },
   {
    "duration": 15,
    "start_time": "2022-11-24T10:46:31.232Z"
   },
   {
    "duration": 20,
    "start_time": "2022-11-24T10:49:41.429Z"
   },
   {
    "duration": 13,
    "start_time": "2022-11-24T10:57:06.037Z"
   },
   {
    "duration": 17103,
    "start_time": "2022-11-24T11:07:26.580Z"
   },
   {
    "duration": 17107,
    "start_time": "2022-11-24T11:08:18.961Z"
   },
   {
    "duration": 17082,
    "start_time": "2022-11-24T11:09:57.526Z"
   },
   {
    "duration": 19122,
    "start_time": "2022-11-24T11:12:24.081Z"
   },
   {
    "duration": 11,
    "start_time": "2022-11-24T11:25:00.855Z"
   },
   {
    "duration": 21,
    "start_time": "2022-11-24T11:34:42.657Z"
   },
   {
    "duration": 42,
    "start_time": "2022-11-24T11:44:33.207Z"
   },
   {
    "duration": 2169,
    "start_time": "2022-11-24T11:44:56.399Z"
   },
   {
    "duration": 47,
    "start_time": "2022-11-24T11:44:58.570Z"
   },
   {
    "duration": 38545,
    "start_time": "2022-11-24T11:44:58.618Z"
   },
   {
    "duration": 7,
    "start_time": "2022-11-24T11:45:37.165Z"
   },
   {
    "duration": 29,
    "start_time": "2022-11-24T11:45:37.173Z"
   },
   {
    "duration": 46,
    "start_time": "2022-11-24T11:45:37.203Z"
   },
   {
    "duration": 44,
    "start_time": "2022-11-24T11:48:13.798Z"
   },
   {
    "duration": 6,
    "start_time": "2022-11-24T11:50:05.757Z"
   },
   {
    "duration": 34,
    "start_time": "2022-11-24T11:51:24.761Z"
   },
   {
    "duration": 32,
    "start_time": "2022-11-24T11:51:33.217Z"
   },
   {
    "duration": 33,
    "start_time": "2022-11-24T11:51:42.316Z"
   },
   {
    "duration": 2173,
    "start_time": "2022-11-24T11:51:53.046Z"
   },
   {
    "duration": 49,
    "start_time": "2022-11-24T11:51:55.222Z"
   },
   {
    "duration": 38692,
    "start_time": "2022-11-24T11:51:55.273Z"
   },
   {
    "duration": 7,
    "start_time": "2022-11-24T11:52:33.967Z"
   },
   {
    "duration": 29,
    "start_time": "2022-11-24T11:52:33.976Z"
   },
   {
    "duration": 83,
    "start_time": "2022-11-24T11:52:34.007Z"
   },
   {
    "duration": 29,
    "start_time": "2022-11-24T11:52:34.092Z"
   },
   {
    "duration": 35,
    "start_time": "2022-11-24T11:56:20.101Z"
   },
   {
    "duration": 37,
    "start_time": "2022-11-24T12:38:35.369Z"
   },
   {
    "duration": 45,
    "start_time": "2022-11-24T14:54:58.493Z"
   },
   {
    "duration": 2266,
    "start_time": "2022-11-24T14:55:08.831Z"
   },
   {
    "duration": 21,
    "start_time": "2022-11-24T14:55:11.099Z"
   },
   {
    "duration": 34395,
    "start_time": "2022-11-24T14:55:11.121Z"
   },
   {
    "duration": 8,
    "start_time": "2022-11-24T14:55:45.517Z"
   },
   {
    "duration": 10,
    "start_time": "2022-11-24T14:55:45.527Z"
   },
   {
    "duration": 61,
    "start_time": "2022-11-24T14:55:45.539Z"
   },
   {
    "duration": 46,
    "start_time": "2022-11-24T14:55:45.602Z"
   },
   {
    "duration": 36,
    "start_time": "2022-11-24T14:56:16.316Z"
   },
   {
    "duration": 42,
    "start_time": "2022-11-24T14:57:18.648Z"
   },
   {
    "duration": 41,
    "start_time": "2022-11-24T14:57:42.952Z"
   },
   {
    "duration": 35,
    "start_time": "2022-11-24T14:58:08.545Z"
   },
   {
    "duration": 34,
    "start_time": "2022-11-24T14:58:28.516Z"
   },
   {
    "duration": 36,
    "start_time": "2022-11-24T14:59:05.900Z"
   },
   {
    "duration": 39,
    "start_time": "2022-11-24T14:59:23.011Z"
   },
   {
    "duration": 33,
    "start_time": "2022-11-24T15:03:07.374Z"
   },
   {
    "duration": 43,
    "start_time": "2022-11-24T15:03:14.662Z"
   },
   {
    "duration": 116,
    "start_time": "2022-11-24T16:04:42.694Z"
   },
   {
    "duration": 111,
    "start_time": "2022-11-24T16:08:45.806Z"
   },
   {
    "duration": 130,
    "start_time": "2022-11-24T16:08:51.652Z"
   },
   {
    "duration": 2099,
    "start_time": "2022-11-24T16:10:48.189Z"
   },
   {
    "duration": 25,
    "start_time": "2022-11-24T16:10:50.290Z"
   },
   {
    "duration": 34063,
    "start_time": "2022-11-24T16:10:50.316Z"
   },
   {
    "duration": 16,
    "start_time": "2022-11-24T16:11:24.381Z"
   },
   {
    "duration": 10,
    "start_time": "2022-11-24T16:11:24.399Z"
   },
   {
    "duration": 42,
    "start_time": "2022-11-24T16:11:24.411Z"
   },
   {
    "duration": 174,
    "start_time": "2022-11-24T16:11:24.454Z"
   },
   {
    "duration": 1943,
    "start_time": "2022-11-24T16:14:20.701Z"
   },
   {
    "duration": 21,
    "start_time": "2022-11-24T16:14:22.646Z"
   },
   {
    "duration": 34985,
    "start_time": "2022-11-24T16:14:22.669Z"
   },
   {
    "duration": 7,
    "start_time": "2022-11-24T16:14:57.655Z"
   },
   {
    "duration": 30,
    "start_time": "2022-11-24T16:14:57.663Z"
   },
   {
    "duration": 52,
    "start_time": "2022-11-24T16:14:57.695Z"
   },
   {
    "duration": 100,
    "start_time": "2022-11-24T16:14:57.749Z"
   },
   {
    "duration": 67,
    "start_time": "2022-11-24T16:16:27.636Z"
   },
   {
    "duration": 7,
    "start_time": "2022-11-24T16:16:44.781Z"
   },
   {
    "duration": 7,
    "start_time": "2022-11-24T16:21:08.230Z"
   },
   {
    "duration": 13,
    "start_time": "2022-11-24T16:24:36.393Z"
   },
   {
    "duration": 15,
    "start_time": "2022-11-24T16:24:45.714Z"
   },
   {
    "duration": 16,
    "start_time": "2022-11-24T16:29:22.857Z"
   },
   {
    "duration": 12,
    "start_time": "2022-11-24T16:29:37.464Z"
   },
   {
    "duration": 11,
    "start_time": "2022-11-24T16:29:52.379Z"
   },
   {
    "duration": 16,
    "start_time": "2022-11-24T16:30:00.067Z"
   },
   {
    "duration": 16,
    "start_time": "2022-11-24T16:30:29.372Z"
   },
   {
    "duration": 32,
    "start_time": "2022-11-24T16:32:29.416Z"
   },
   {
    "duration": 32,
    "start_time": "2022-11-24T16:32:42.281Z"
   },
   {
    "duration": 57,
    "start_time": "2022-11-24T16:33:54.131Z"
   },
   {
    "duration": 1451,
    "start_time": "2022-11-24T16:45:06.943Z"
   },
   {
    "duration": 10,
    "start_time": "2022-11-24T16:51:08.447Z"
   },
   {
    "duration": 797,
    "start_time": "2022-11-24T16:53:56.430Z"
   },
   {
    "duration": 7,
    "start_time": "2022-11-24T16:54:22.470Z"
   },
   {
    "duration": 6,
    "start_time": "2022-11-24T16:54:43.520Z"
   },
   {
    "duration": 2466,
    "start_time": "2022-11-25T08:29:48.069Z"
   },
   {
    "duration": 24,
    "start_time": "2022-11-25T08:29:50.536Z"
   },
   {
    "duration": 36625,
    "start_time": "2022-11-25T08:29:50.561Z"
   },
   {
    "duration": 11,
    "start_time": "2022-11-25T08:30:27.188Z"
   },
   {
    "duration": 13,
    "start_time": "2022-11-25T08:30:27.201Z"
   },
   {
    "duration": 53,
    "start_time": "2022-11-25T08:30:27.215Z"
   },
   {
    "duration": 106,
    "start_time": "2022-11-25T08:30:27.269Z"
   },
   {
    "duration": 54,
    "start_time": "2022-11-25T08:30:27.376Z"
   },
   {
    "duration": 4,
    "start_time": "2022-11-25T08:30:27.431Z"
   },
   {
    "duration": 82,
    "start_time": "2022-11-25T08:30:27.436Z"
   },
   {
    "duration": 1015,
    "start_time": "2022-11-25T08:32:02.375Z"
   },
   {
    "duration": 12,
    "start_time": "2022-11-25T08:33:21.899Z"
   },
   {
    "duration": 24,
    "start_time": "2022-11-25T08:33:50.214Z"
   },
   {
    "duration": 14,
    "start_time": "2022-11-25T08:34:12.120Z"
   },
   {
    "duration": 71,
    "start_time": "2022-11-25T08:44:59.080Z"
   },
   {
    "duration": 594,
    "start_time": "2022-11-25T08:47:05.009Z"
   },
   {
    "duration": 1046,
    "start_time": "2022-11-25T08:48:06.239Z"
   },
   {
    "duration": 13,
    "start_time": "2022-11-25T08:50:06.798Z"
   },
   {
    "duration": 6285,
    "start_time": "2022-11-25T08:53:04.544Z"
   },
   {
    "duration": 786,
    "start_time": "2022-11-25T08:53:37.989Z"
   },
   {
    "duration": 763,
    "start_time": "2022-11-25T08:54:18.930Z"
   },
   {
    "duration": 29,
    "start_time": "2022-11-25T08:55:21.056Z"
   },
   {
    "duration": 6170,
    "start_time": "2022-11-25T08:55:36.894Z"
   },
   {
    "duration": 1110,
    "start_time": "2022-11-25T08:55:51.522Z"
   },
   {
    "duration": 6403,
    "start_time": "2022-11-25T08:56:36.033Z"
   },
   {
    "duration": 12,
    "start_time": "2022-11-25T08:57:23.423Z"
   },
   {
    "duration": 1944,
    "start_time": "2022-11-25T08:57:31.655Z"
   },
   {
    "duration": 22,
    "start_time": "2022-11-25T08:57:33.600Z"
   },
   {
    "duration": 34479,
    "start_time": "2022-11-25T08:57:33.623Z"
   },
   {
    "duration": 7,
    "start_time": "2022-11-25T08:58:08.104Z"
   },
   {
    "duration": 11,
    "start_time": "2022-11-25T08:58:08.112Z"
   },
   {
    "duration": 43,
    "start_time": "2022-11-25T08:58:08.124Z"
   },
   {
    "duration": 133,
    "start_time": "2022-11-25T08:58:08.168Z"
   },
   {
    "duration": 48,
    "start_time": "2022-11-25T08:58:08.302Z"
   },
   {
    "duration": 3,
    "start_time": "2022-11-25T08:58:08.352Z"
   },
   {
    "duration": 15,
    "start_time": "2022-11-25T08:58:08.357Z"
   },
   {
    "duration": 17,
    "start_time": "2022-11-25T09:01:01.621Z"
   },
   {
    "duration": 65,
    "start_time": "2022-11-25T09:10:58.732Z"
   },
   {
    "duration": 62,
    "start_time": "2022-11-25T09:11:26.764Z"
   },
   {
    "duration": 56,
    "start_time": "2022-11-25T09:11:39.628Z"
   },
   {
    "duration": 2011,
    "start_time": "2022-11-25T09:15:47.645Z"
   },
   {
    "duration": 22,
    "start_time": "2022-11-25T09:15:49.658Z"
   },
   {
    "duration": 36354,
    "start_time": "2022-11-25T09:15:49.681Z"
   },
   {
    "duration": 8,
    "start_time": "2022-11-25T09:16:26.037Z"
   },
   {
    "duration": 9,
    "start_time": "2022-11-25T09:16:26.047Z"
   },
   {
    "duration": 56,
    "start_time": "2022-11-25T09:16:26.058Z"
   },
   {
    "duration": 130,
    "start_time": "2022-11-25T09:16:26.115Z"
   },
   {
    "duration": 110,
    "start_time": "2022-11-25T09:16:26.247Z"
   },
   {
    "duration": 0,
    "start_time": "2022-11-25T09:16:26.359Z"
   },
   {
    "duration": 0,
    "start_time": "2022-11-25T09:16:26.360Z"
   },
   {
    "duration": 1929,
    "start_time": "2022-11-25T09:18:09.057Z"
   },
   {
    "duration": 29,
    "start_time": "2022-11-25T09:18:10.988Z"
   },
   {
    "duration": 35039,
    "start_time": "2022-11-25T09:18:11.019Z"
   },
   {
    "duration": 7,
    "start_time": "2022-11-25T09:18:46.060Z"
   },
   {
    "duration": 11,
    "start_time": "2022-11-25T09:18:46.068Z"
   },
   {
    "duration": 51,
    "start_time": "2022-11-25T09:18:46.081Z"
   },
   {
    "duration": 106,
    "start_time": "2022-11-25T09:18:46.134Z"
   },
   {
    "duration": 101,
    "start_time": "2022-11-25T09:18:46.241Z"
   },
   {
    "duration": 0,
    "start_time": "2022-11-25T09:18:46.343Z"
   },
   {
    "duration": 0,
    "start_time": "2022-11-25T09:18:46.344Z"
   },
   {
    "duration": 761,
    "start_time": "2022-11-25T09:19:16.647Z"
   },
   {
    "duration": 66,
    "start_time": "2022-11-25T09:21:38.037Z"
   },
   {
    "duration": 4,
    "start_time": "2022-11-25T09:21:42.315Z"
   },
   {
    "duration": 6,
    "start_time": "2022-11-25T09:21:44.473Z"
   },
   {
    "duration": 5,
    "start_time": "2022-11-25T09:23:17.277Z"
   },
   {
    "duration": 17,
    "start_time": "2022-11-25T09:23:42.638Z"
   },
   {
    "duration": 6,
    "start_time": "2022-11-25T09:23:51.797Z"
   },
   {
    "duration": 237,
    "start_time": "2022-11-25T09:33:26.447Z"
   },
   {
    "duration": 289,
    "start_time": "2022-11-25T09:33:48.788Z"
   },
   {
    "duration": 4,
    "start_time": "2022-11-25T09:39:07.003Z"
   },
   {
    "duration": 4,
    "start_time": "2022-11-25T09:39:17.463Z"
   },
   {
    "duration": 1003,
    "start_time": "2022-11-25T09:39:31.094Z"
   },
   {
    "duration": 16,
    "start_time": "2022-11-25T09:39:41.382Z"
   },
   {
    "duration": 1337,
    "start_time": "2022-11-25T09:50:27.077Z"
   },
   {
    "duration": 1428,
    "start_time": "2022-11-25T09:50:58.844Z"
   },
   {
    "duration": 1445,
    "start_time": "2022-11-25T09:53:30.698Z"
   },
   {
    "duration": 10,
    "start_time": "2022-11-25T09:55:14.877Z"
   },
   {
    "duration": 2072,
    "start_time": "2022-11-25T09:55:24.078Z"
   },
   {
    "duration": 23,
    "start_time": "2022-11-25T09:55:26.152Z"
   },
   {
    "duration": 36146,
    "start_time": "2022-11-25T09:55:26.176Z"
   },
   {
    "duration": 8,
    "start_time": "2022-11-25T09:56:02.324Z"
   },
   {
    "duration": 34,
    "start_time": "2022-11-25T09:56:02.335Z"
   },
   {
    "duration": 99,
    "start_time": "2022-11-25T09:56:02.371Z"
   },
   {
    "duration": 107,
    "start_time": "2022-11-25T09:56:02.472Z"
   },
   {
    "duration": 8,
    "start_time": "2022-11-25T09:56:02.581Z"
   },
   {
    "duration": 83,
    "start_time": "2022-11-25T09:56:02.596Z"
   },
   {
    "duration": 4,
    "start_time": "2022-11-25T09:56:02.681Z"
   },
   {
    "duration": 23,
    "start_time": "2022-11-25T09:56:02.686Z"
   },
   {
    "duration": 13,
    "start_time": "2022-11-25T09:56:02.711Z"
   },
   {
    "duration": 231,
    "start_time": "2022-11-25T09:56:02.725Z"
   },
   {
    "duration": 15,
    "start_time": "2022-11-25T09:56:02.959Z"
   },
   {
    "duration": 9,
    "start_time": "2022-11-25T09:56:22.649Z"
   },
   {
    "duration": 2089,
    "start_time": "2022-11-25T09:57:03.499Z"
   },
   {
    "duration": 25,
    "start_time": "2022-11-25T09:57:10.407Z"
   },
   {
    "duration": 37092,
    "start_time": "2022-11-25T09:57:12.958Z"
   },
   {
    "duration": 14,
    "start_time": "2022-11-25T10:07:09.238Z"
   },
   {
    "duration": 123,
    "start_time": "2022-11-25T10:13:51.428Z"
   },
   {
    "duration": 2042,
    "start_time": "2022-11-25T10:14:51.549Z"
   },
   {
    "duration": 26,
    "start_time": "2022-11-25T10:14:53.593Z"
   },
   {
    "duration": 36633,
    "start_time": "2022-11-25T10:14:53.621Z"
   },
   {
    "duration": 9,
    "start_time": "2022-11-25T10:15:30.256Z"
   },
   {
    "duration": 54,
    "start_time": "2022-11-25T10:15:30.266Z"
   },
   {
    "duration": 117,
    "start_time": "2022-11-25T10:15:30.322Z"
   },
   {
    "duration": 8,
    "start_time": "2022-11-25T10:15:30.441Z"
   },
   {
    "duration": 95,
    "start_time": "2022-11-25T10:15:30.450Z"
   },
   {
    "duration": 4,
    "start_time": "2022-11-25T10:15:30.547Z"
   },
   {
    "duration": 29,
    "start_time": "2022-11-25T10:15:30.553Z"
   },
   {
    "duration": 42,
    "start_time": "2022-11-25T10:15:30.584Z"
   },
   {
    "duration": 250,
    "start_time": "2022-11-25T10:15:30.628Z"
   },
   {
    "duration": 19,
    "start_time": "2022-11-25T10:15:30.880Z"
   },
   {
    "duration": 2952,
    "start_time": "2022-11-26T18:31:08.001Z"
   },
   {
    "duration": 25,
    "start_time": "2022-11-26T18:31:10.955Z"
   },
   {
    "duration": 39307,
    "start_time": "2022-11-26T18:31:10.981Z"
   },
   {
    "duration": 8,
    "start_time": "2022-11-26T18:31:50.290Z"
   },
   {
    "duration": 53,
    "start_time": "2022-11-26T18:31:50.300Z"
   },
   {
    "duration": 117,
    "start_time": "2022-11-26T18:31:50.355Z"
   },
   {
    "duration": 7,
    "start_time": "2022-11-26T18:31:50.473Z"
   },
   {
    "duration": 24,
    "start_time": "2022-11-26T18:31:50.482Z"
   },
   {
    "duration": 0,
    "start_time": "2022-11-26T18:31:50.508Z"
   },
   {
    "duration": 0,
    "start_time": "2022-11-26T18:31:50.509Z"
   },
   {
    "duration": 1,
    "start_time": "2022-11-26T18:31:50.509Z"
   },
   {
    "duration": 0,
    "start_time": "2022-11-26T18:31:50.511Z"
   },
   {
    "duration": 47,
    "start_time": "2022-11-26T18:32:50.273Z"
   },
   {
    "duration": 7,
    "start_time": "2022-11-26T18:33:44.730Z"
   },
   {
    "duration": 448,
    "start_time": "2022-11-26T18:34:08.018Z"
   },
   {
    "duration": 414,
    "start_time": "2022-11-26T18:35:25.501Z"
   },
   {
    "duration": 7,
    "start_time": "2022-11-26T18:36:38.779Z"
   },
   {
    "duration": 938,
    "start_time": "2022-11-26T18:36:55.932Z"
   },
   {
    "duration": 8,
    "start_time": "2022-11-26T18:37:27.667Z"
   },
   {
    "duration": 78,
    "start_time": "2022-11-26T18:38:03.518Z"
   },
   {
    "duration": 85,
    "start_time": "2022-11-26T18:38:59.947Z"
   },
   {
    "duration": 154,
    "start_time": "2022-11-26T18:39:58.649Z"
   },
   {
    "duration": 79,
    "start_time": "2022-11-26T18:41:41.337Z"
   },
   {
    "duration": 80,
    "start_time": "2022-11-26T18:42:10.318Z"
   },
   {
    "duration": 431,
    "start_time": "2022-11-26T18:43:09.287Z"
   },
   {
    "duration": 89,
    "start_time": "2022-11-26T18:44:04.990Z"
   },
   {
    "duration": 79,
    "start_time": "2022-11-26T18:44:13.377Z"
   },
   {
    "duration": 3,
    "start_time": "2022-11-26T18:44:47.606Z"
   },
   {
    "duration": 6,
    "start_time": "2022-11-26T18:44:49.070Z"
   },
   {
    "duration": 8,
    "start_time": "2022-11-26T18:44:49.932Z"
   },
   {
    "duration": 226,
    "start_time": "2022-11-26T18:44:50.736Z"
   },
   {
    "duration": 4,
    "start_time": "2022-11-26T18:45:25.110Z"
   },
   {
    "duration": 134,
    "start_time": "2022-11-26T18:48:08.310Z"
   },
   {
    "duration": 183,
    "start_time": "2022-11-26T18:48:30.595Z"
   },
   {
    "duration": 128,
    "start_time": "2022-11-26T18:49:19.728Z"
   },
   {
    "duration": 132,
    "start_time": "2022-11-26T18:49:39.820Z"
   },
   {
    "duration": 137,
    "start_time": "2022-11-26T18:49:42.118Z"
   },
   {
    "duration": 134,
    "start_time": "2022-11-26T18:49:58.080Z"
   },
   {
    "duration": 153,
    "start_time": "2022-11-26T18:50:06.369Z"
   },
   {
    "duration": 134,
    "start_time": "2022-11-26T18:50:11.390Z"
   },
   {
    "duration": 731,
    "start_time": "2022-11-26T18:50:47.050Z"
   },
   {
    "duration": 781,
    "start_time": "2022-11-26T18:51:00.812Z"
   },
   {
    "duration": 147,
    "start_time": "2022-11-26T18:51:29.365Z"
   },
   {
    "duration": 137,
    "start_time": "2022-11-26T18:53:08.180Z"
   },
   {
    "duration": 10,
    "start_time": "2022-11-26T18:54:24.676Z"
   },
   {
    "duration": 134,
    "start_time": "2022-11-26T18:55:46.489Z"
   },
   {
    "duration": 10,
    "start_time": "2022-11-26T18:56:12.105Z"
   },
   {
    "duration": 38,
    "start_time": "2022-11-26T18:56:22.880Z"
   },
   {
    "duration": 203,
    "start_time": "2022-11-26T18:56:27.942Z"
   },
   {
    "duration": 177,
    "start_time": "2022-11-26T18:56:37.284Z"
   },
   {
    "duration": 299,
    "start_time": "2022-11-26T18:56:45.922Z"
   },
   {
    "duration": 137,
    "start_time": "2022-11-26T18:59:03.699Z"
   },
   {
    "duration": 50,
    "start_time": "2022-11-26T19:00:41.479Z"
   },
   {
    "duration": 173,
    "start_time": "2022-11-26T19:00:44.532Z"
   },
   {
    "duration": 9,
    "start_time": "2022-11-26T19:03:03.427Z"
   },
   {
    "duration": 16,
    "start_time": "2022-11-26T19:03:09.617Z"
   },
   {
    "duration": 16,
    "start_time": "2022-11-26T19:06:28.868Z"
   },
   {
    "duration": 19,
    "start_time": "2022-11-26T19:06:34.830Z"
   },
   {
    "duration": 21,
    "start_time": "2022-11-26T19:06:58.727Z"
   },
   {
    "duration": 251,
    "start_time": "2022-11-26T19:07:05.580Z"
   },
   {
    "duration": 227,
    "start_time": "2022-11-26T19:07:27.522Z"
   },
   {
    "duration": 9,
    "start_time": "2022-11-26T19:09:01.283Z"
   },
   {
    "duration": 153,
    "start_time": "2022-11-26T19:09:04.885Z"
   },
   {
    "duration": 141,
    "start_time": "2022-11-26T19:09:31.089Z"
   },
   {
    "duration": 140,
    "start_time": "2022-11-26T19:09:40.661Z"
   },
   {
    "duration": 175,
    "start_time": "2022-11-26T19:09:47.699Z"
   },
   {
    "duration": 270,
    "start_time": "2022-11-26T19:10:00.692Z"
   },
   {
    "duration": 371,
    "start_time": "2022-11-26T19:10:10.563Z"
   },
   {
    "duration": 229,
    "start_time": "2022-11-26T19:10:48.793Z"
   },
   {
    "duration": 466,
    "start_time": "2022-11-26T19:11:08.070Z"
   },
   {
    "duration": 234,
    "start_time": "2022-11-26T19:11:16.792Z"
   },
   {
    "duration": 141,
    "start_time": "2022-11-26T19:11:22.406Z"
   },
   {
    "duration": 132,
    "start_time": "2022-11-26T19:11:50.491Z"
   },
   {
    "duration": 154,
    "start_time": "2022-11-26T19:11:58.045Z"
   },
   {
    "duration": 164,
    "start_time": "2022-11-26T19:12:05.196Z"
   },
   {
    "duration": 156,
    "start_time": "2022-11-26T19:12:11.893Z"
   },
   {
    "duration": 236,
    "start_time": "2022-11-26T19:12:28.360Z"
   },
   {
    "duration": 13,
    "start_time": "2022-11-26T19:12:39.573Z"
   },
   {
    "duration": 131,
    "start_time": "2022-11-26T19:12:42.972Z"
   },
   {
    "duration": 139,
    "start_time": "2022-11-26T19:12:49.578Z"
   },
   {
    "duration": 866,
    "start_time": "2022-11-26T19:13:19.374Z"
   },
   {
    "duration": 904,
    "start_time": "2022-11-26T19:14:02.741Z"
   },
   {
    "duration": 180,
    "start_time": "2022-11-26T19:14:24.129Z"
   },
   {
    "duration": 151,
    "start_time": "2022-11-26T19:14:57.228Z"
   },
   {
    "duration": 22,
    "start_time": "2022-11-26T19:15:49.084Z"
   },
   {
    "duration": 218,
    "start_time": "2022-11-26T19:15:56.545Z"
   },
   {
    "duration": 22,
    "start_time": "2022-11-26T19:17:29.994Z"
   },
   {
    "duration": 21,
    "start_time": "2022-11-26T19:17:48.702Z"
   },
   {
    "duration": 27,
    "start_time": "2022-11-26T19:17:58.621Z"
   },
   {
    "duration": 162,
    "start_time": "2022-11-26T19:18:08.116Z"
   },
   {
    "duration": 27,
    "start_time": "2022-11-26T19:28:30.652Z"
   },
   {
    "duration": 24,
    "start_time": "2022-11-26T19:29:26.708Z"
   },
   {
    "duration": 20,
    "start_time": "2022-11-26T19:30:00.468Z"
   },
   {
    "duration": 25,
    "start_time": "2022-11-26T19:30:23.495Z"
   },
   {
    "duration": 29,
    "start_time": "2022-11-26T19:31:22.498Z"
   },
   {
    "duration": 26,
    "start_time": "2022-11-26T19:31:36.083Z"
   },
   {
    "duration": 1388,
    "start_time": "2022-11-26T19:33:12.425Z"
   },
   {
    "duration": 122,
    "start_time": "2022-11-26T19:34:42.242Z"
   },
   {
    "duration": 121,
    "start_time": "2022-11-26T19:35:23.295Z"
   },
   {
    "duration": 36,
    "start_time": "2022-11-26T19:35:53.394Z"
   },
   {
    "duration": 23,
    "start_time": "2022-11-26T19:36:08.325Z"
   },
   {
    "duration": 32,
    "start_time": "2022-11-26T19:36:16.729Z"
   },
   {
    "duration": 40,
    "start_time": "2022-11-26T19:36:34.776Z"
   },
   {
    "duration": 120,
    "start_time": "2022-11-26T19:36:48.038Z"
   },
   {
    "duration": 134,
    "start_time": "2022-11-26T19:37:12.413Z"
   },
   {
    "duration": 128,
    "start_time": "2022-11-26T19:38:15.175Z"
   },
   {
    "duration": 112,
    "start_time": "2022-11-26T19:38:38.088Z"
   },
   {
    "duration": 145,
    "start_time": "2022-11-26T19:39:48.523Z"
   },
   {
    "duration": 12,
    "start_time": "2022-11-26T19:39:55.755Z"
   },
   {
    "duration": 161,
    "start_time": "2022-11-26T19:40:01.315Z"
   },
   {
    "duration": 119,
    "start_time": "2022-11-26T19:42:24.425Z"
   },
   {
    "duration": 126,
    "start_time": "2022-11-26T19:42:56.051Z"
   },
   {
    "duration": 128,
    "start_time": "2022-11-26T19:43:15.724Z"
   },
   {
    "duration": 121,
    "start_time": "2022-11-26T19:43:27.426Z"
   },
   {
    "duration": 145,
    "start_time": "2022-11-26T19:43:50.603Z"
   },
   {
    "duration": 120,
    "start_time": "2022-11-26T19:44:51.660Z"
   },
   {
    "duration": 136,
    "start_time": "2022-11-26T19:45:03.350Z"
   },
   {
    "duration": 123,
    "start_time": "2022-11-26T19:46:02.956Z"
   },
   {
    "duration": 375,
    "start_time": "2022-11-26T19:46:08.439Z"
   },
   {
    "duration": 138,
    "start_time": "2022-11-26T19:46:12.407Z"
   },
   {
    "duration": 125,
    "start_time": "2022-11-26T19:46:32.721Z"
   },
   {
    "duration": 253,
    "start_time": "2022-11-26T19:46:44.032Z"
   },
   {
    "duration": 179,
    "start_time": "2022-11-26T19:46:56.482Z"
   },
   {
    "duration": 129,
    "start_time": "2022-11-26T19:47:02.984Z"
   },
   {
    "duration": 136,
    "start_time": "2022-11-26T19:48:11.811Z"
   },
   {
    "duration": 255,
    "start_time": "2022-11-26T19:48:20.128Z"
   },
   {
    "duration": 1522,
    "start_time": "2022-11-26T19:49:16.516Z"
   },
   {
    "duration": 229,
    "start_time": "2022-11-26T19:49:23.725Z"
   },
   {
    "duration": 399,
    "start_time": "2022-11-26T19:49:27.025Z"
   },
   {
    "duration": 154,
    "start_time": "2022-11-26T19:53:56.104Z"
   },
   {
    "duration": 151,
    "start_time": "2022-11-26T19:54:56.074Z"
   },
   {
    "duration": 140,
    "start_time": "2022-11-26T19:55:05.728Z"
   },
   {
    "duration": 130,
    "start_time": "2022-11-26T19:55:20.498Z"
   },
   {
    "duration": 160,
    "start_time": "2022-11-26T19:58:09.332Z"
   },
   {
    "duration": 185,
    "start_time": "2022-11-26T19:59:02.602Z"
   },
   {
    "duration": 172,
    "start_time": "2022-11-26T19:59:33.768Z"
   },
   {
    "duration": 177,
    "start_time": "2022-11-26T20:00:17.667Z"
   },
   {
    "duration": 185,
    "start_time": "2022-11-26T20:01:06.519Z"
   },
   {
    "duration": 188,
    "start_time": "2022-11-26T20:01:55.419Z"
   },
   {
    "duration": 176,
    "start_time": "2022-11-26T20:02:04.589Z"
   },
   {
    "duration": 184,
    "start_time": "2022-11-26T20:11:55.801Z"
   },
   {
    "duration": 191,
    "start_time": "2022-11-26T20:12:21.843Z"
   },
   {
    "duration": 184,
    "start_time": "2022-11-26T20:12:27.031Z"
   },
   {
    "duration": 202,
    "start_time": "2022-11-26T20:12:55.054Z"
   },
   {
    "duration": 219,
    "start_time": "2022-11-26T20:13:04.718Z"
   },
   {
    "duration": 205,
    "start_time": "2022-11-26T20:13:32.813Z"
   },
   {
    "duration": 188,
    "start_time": "2022-11-26T20:13:56.227Z"
   },
   {
    "duration": 198,
    "start_time": "2022-11-26T20:14:04.484Z"
   },
   {
    "duration": 25,
    "start_time": "2022-11-26T20:14:23.559Z"
   },
   {
    "duration": 172,
    "start_time": "2022-11-26T20:15:13.839Z"
   },
   {
    "duration": 27,
    "start_time": "2022-11-26T20:15:26.523Z"
   },
   {
    "duration": 191,
    "start_time": "2022-11-26T20:15:42.155Z"
   },
   {
    "duration": 168,
    "start_time": "2022-11-26T20:16:35.454Z"
   },
   {
    "duration": 151,
    "start_time": "2022-11-26T20:16:51.243Z"
   },
   {
    "duration": 182,
    "start_time": "2022-11-26T20:17:15.703Z"
   },
   {
    "duration": 165,
    "start_time": "2022-11-26T20:17:27.099Z"
   },
   {
    "duration": 13,
    "start_time": "2022-11-26T20:17:42.419Z"
   },
   {
    "duration": 163,
    "start_time": "2022-11-26T20:17:52.785Z"
   },
   {
    "duration": 14,
    "start_time": "2022-11-26T20:19:49.924Z"
   },
   {
    "duration": 18,
    "start_time": "2022-11-26T20:20:11.220Z"
   },
   {
    "duration": 24,
    "start_time": "2022-11-26T20:20:17.652Z"
   },
   {
    "duration": 7,
    "start_time": "2022-11-26T20:21:02.755Z"
   },
   {
    "duration": 6,
    "start_time": "2022-11-26T20:21:14.653Z"
   },
   {
    "duration": 15,
    "start_time": "2022-11-26T20:23:24.231Z"
   },
   {
    "duration": 24,
    "start_time": "2022-11-26T20:23:57.547Z"
   },
   {
    "duration": 24,
    "start_time": "2022-11-26T20:24:09.027Z"
   },
   {
    "duration": 19,
    "start_time": "2022-11-26T20:24:42.495Z"
   },
   {
    "duration": 27,
    "start_time": "2022-11-26T20:24:51.175Z"
   },
   {
    "duration": 17,
    "start_time": "2022-11-26T20:25:03.831Z"
   },
   {
    "duration": 15,
    "start_time": "2022-11-26T20:26:18.624Z"
   },
   {
    "duration": 14,
    "start_time": "2022-11-26T20:26:34.350Z"
   },
   {
    "duration": 808,
    "start_time": "2022-11-26T20:27:24.450Z"
   },
   {
    "duration": 52,
    "start_time": "2022-11-26T20:28:30.237Z"
   },
   {
    "duration": 18,
    "start_time": "2022-11-26T20:28:45.485Z"
   },
   {
    "duration": 25,
    "start_time": "2022-11-26T20:29:42.487Z"
   },
   {
    "duration": 17,
    "start_time": "2022-11-26T20:30:08.936Z"
   },
   {
    "duration": 17,
    "start_time": "2022-11-26T20:30:24.421Z"
   },
   {
    "duration": 22,
    "start_time": "2022-11-26T20:30:34.713Z"
   },
   {
    "duration": 23,
    "start_time": "2022-11-26T20:31:02.568Z"
   },
   {
    "duration": 27,
    "start_time": "2022-11-26T20:31:13.945Z"
   },
   {
    "duration": 21,
    "start_time": "2022-11-26T20:31:28.932Z"
   },
   {
    "duration": 10,
    "start_time": "2022-11-26T20:33:54.588Z"
   },
   {
    "duration": 15,
    "start_time": "2022-11-26T20:34:02.955Z"
   },
   {
    "duration": 9,
    "start_time": "2022-11-26T20:36:54.527Z"
   },
   {
    "duration": 19,
    "start_time": "2022-11-26T20:37:07.711Z"
   },
   {
    "duration": 46,
    "start_time": "2022-11-26T20:39:20.082Z"
   },
   {
    "duration": 23,
    "start_time": "2022-11-26T20:39:26.515Z"
   },
   {
    "duration": 19,
    "start_time": "2022-11-26T20:39:37.871Z"
   },
   {
    "duration": 19,
    "start_time": "2022-11-26T20:43:11.567Z"
   },
   {
    "duration": 48,
    "start_time": "2022-11-26T20:44:06.107Z"
   },
   {
    "duration": 39,
    "start_time": "2022-11-26T20:44:20.793Z"
   },
   {
    "duration": 49,
    "start_time": "2022-11-26T20:44:39.656Z"
   },
   {
    "duration": 9,
    "start_time": "2022-11-26T20:44:46.247Z"
   },
   {
    "duration": 9,
    "start_time": "2022-11-26T20:45:17.552Z"
   },
   {
    "duration": 10,
    "start_time": "2022-11-26T20:45:59.014Z"
   },
   {
    "duration": 9,
    "start_time": "2022-11-26T20:46:34.393Z"
   },
   {
    "duration": 23,
    "start_time": "2022-11-26T20:46:51.446Z"
   },
   {
    "duration": 17,
    "start_time": "2022-11-26T20:46:59.482Z"
   },
   {
    "duration": 20,
    "start_time": "2022-11-26T20:47:39.621Z"
   },
   {
    "duration": 19,
    "start_time": "2022-11-26T20:47:52.492Z"
   },
   {
    "duration": 19,
    "start_time": "2022-11-26T20:48:24.430Z"
   },
   {
    "duration": 18,
    "start_time": "2022-11-26T20:49:04.696Z"
   },
   {
    "duration": 36,
    "start_time": "2022-11-26T20:50:19.093Z"
   },
   {
    "duration": 45,
    "start_time": "2022-11-26T20:50:32.178Z"
   },
   {
    "duration": 20,
    "start_time": "2022-11-26T20:52:12.370Z"
   },
   {
    "duration": 174,
    "start_time": "2022-11-26T20:52:48.068Z"
   },
   {
    "duration": 17,
    "start_time": "2022-11-26T21:05:23.949Z"
   },
   {
    "duration": 13,
    "start_time": "2022-11-26T21:05:40.194Z"
   },
   {
    "duration": 204,
    "start_time": "2022-11-26T21:06:23.706Z"
   },
   {
    "duration": 10,
    "start_time": "2022-11-26T21:06:36.983Z"
   },
   {
    "duration": 10,
    "start_time": "2022-11-26T21:06:53.538Z"
   },
   {
    "duration": 40,
    "start_time": "2022-11-26T21:07:02.211Z"
   },
   {
    "duration": 11,
    "start_time": "2022-11-26T21:07:30.617Z"
   },
   {
    "duration": 1014,
    "start_time": "2022-11-26T21:08:28.600Z"
   },
   {
    "duration": 141,
    "start_time": "2022-11-26T21:08:50.827Z"
   },
   {
    "duration": 139,
    "start_time": "2022-11-26T21:10:45.205Z"
   },
   {
    "duration": 137,
    "start_time": "2022-11-26T21:10:59.971Z"
   },
   {
    "duration": 52,
    "start_time": "2022-11-26T21:13:46.285Z"
   },
   {
    "duration": 133,
    "start_time": "2022-11-26T21:13:54.473Z"
   },
   {
    "duration": 152,
    "start_time": "2022-11-26T21:14:32.468Z"
   },
   {
    "duration": 139,
    "start_time": "2022-11-26T21:14:41.453Z"
   },
   {
    "duration": 154,
    "start_time": "2022-11-26T21:14:56.325Z"
   },
   {
    "duration": 146,
    "start_time": "2022-11-26T21:15:04.371Z"
   },
   {
    "duration": 103,
    "start_time": "2022-11-26T21:15:26.030Z"
   },
   {
    "duration": 124,
    "start_time": "2022-11-26T21:15:43.531Z"
   },
   {
    "duration": 50,
    "start_time": "2022-11-26T21:15:50.829Z"
   },
   {
    "duration": 45,
    "start_time": "2022-11-26T21:16:16.780Z"
   },
   {
    "duration": 11,
    "start_time": "2022-11-26T21:16:21.446Z"
   },
   {
    "duration": 87,
    "start_time": "2022-11-26T21:16:50.558Z"
   },
   {
    "duration": 14,
    "start_time": "2022-11-26T21:17:47.267Z"
   },
   {
    "duration": 48,
    "start_time": "2022-11-26T21:19:49.242Z"
   },
   {
    "duration": 9,
    "start_time": "2022-11-26T21:19:57.636Z"
   },
   {
    "duration": 44,
    "start_time": "2022-11-26T21:20:49.733Z"
   },
   {
    "duration": 20,
    "start_time": "2022-11-26T21:20:54.627Z"
   },
   {
    "duration": 108,
    "start_time": "2022-11-26T21:21:03.478Z"
   },
   {
    "duration": 10,
    "start_time": "2022-11-26T21:22:28.991Z"
   },
   {
    "duration": 109,
    "start_time": "2022-11-26T21:22:35.103Z"
   },
   {
    "duration": 107,
    "start_time": "2022-11-26T21:23:25.611Z"
   },
   {
    "duration": 102,
    "start_time": "2022-11-26T21:23:33.970Z"
   },
   {
    "duration": 101,
    "start_time": "2022-11-26T21:23:52.921Z"
   },
   {
    "duration": 99,
    "start_time": "2022-11-26T21:23:59.471Z"
   },
   {
    "duration": 102,
    "start_time": "2022-11-26T21:24:22.226Z"
   },
   {
    "duration": 106,
    "start_time": "2022-11-26T21:24:33.571Z"
   },
   {
    "duration": 107,
    "start_time": "2022-11-26T21:24:40.187Z"
   },
   {
    "duration": 105,
    "start_time": "2022-11-26T21:24:45.772Z"
   },
   {
    "duration": 118,
    "start_time": "2022-11-26T21:24:55.129Z"
   },
   {
    "duration": 159,
    "start_time": "2022-11-26T21:25:06.023Z"
   },
   {
    "duration": 145,
    "start_time": "2022-11-26T21:25:13.222Z"
   },
   {
    "duration": 10,
    "start_time": "2022-11-26T21:25:34.989Z"
   },
   {
    "duration": 110,
    "start_time": "2022-11-26T21:26:18.472Z"
   },
   {
    "duration": 117,
    "start_time": "2022-11-26T21:27:03.756Z"
   },
   {
    "duration": 2192,
    "start_time": "2022-11-26T21:32:22.708Z"
   },
   {
    "duration": 35,
    "start_time": "2022-11-26T21:32:24.903Z"
   },
   {
    "duration": 38804,
    "start_time": "2022-11-26T21:32:24.941Z"
   },
   {
    "duration": 12,
    "start_time": "2022-11-26T21:33:03.748Z"
   },
   {
    "duration": 59,
    "start_time": "2022-11-26T21:33:03.763Z"
   },
   {
    "duration": 130,
    "start_time": "2022-11-26T21:33:03.836Z"
   },
   {
    "duration": 8,
    "start_time": "2022-11-26T21:33:03.968Z"
   },
   {
    "duration": 123,
    "start_time": "2022-11-26T21:33:03.978Z"
   },
   {
    "duration": 5,
    "start_time": "2022-11-26T21:33:04.104Z"
   },
   {
    "duration": 14,
    "start_time": "2022-11-26T21:33:04.111Z"
   },
   {
    "duration": 25,
    "start_time": "2022-11-26T21:33:04.127Z"
   },
   {
    "duration": 246,
    "start_time": "2022-11-26T21:33:04.154Z"
   },
   {
    "duration": 4,
    "start_time": "2022-11-26T21:33:04.402Z"
   },
   {
    "duration": 251,
    "start_time": "2022-11-26T21:33:04.409Z"
   },
   {
    "duration": 147,
    "start_time": "2022-11-26T21:33:04.662Z"
   },
   {
    "duration": 319,
    "start_time": "2022-11-26T21:33:04.811Z"
   },
   {
    "duration": 243,
    "start_time": "2022-11-26T21:33:05.135Z"
   },
   {
    "duration": 143,
    "start_time": "2022-11-26T21:33:05.380Z"
   },
   {
    "duration": 135,
    "start_time": "2022-11-26T21:33:05.534Z"
   },
   {
    "duration": 145,
    "start_time": "2022-11-26T21:33:05.670Z"
   },
   {
    "duration": 155,
    "start_time": "2022-11-26T21:33:05.817Z"
   },
   {
    "duration": 144,
    "start_time": "2022-11-26T21:33:05.974Z"
   },
   {
    "duration": 708,
    "start_time": "2022-11-26T21:33:06.120Z"
   },
   {
    "duration": 164,
    "start_time": "2022-11-26T21:33:06.830Z"
   },
   {
    "duration": 141,
    "start_time": "2022-11-26T21:33:06.996Z"
   },
   {
    "duration": 154,
    "start_time": "2022-11-26T21:33:07.139Z"
   },
   {
    "duration": 152,
    "start_time": "2022-11-26T21:33:07.295Z"
   },
   {
    "duration": 143,
    "start_time": "2022-11-26T21:33:07.449Z"
   },
   {
    "duration": 149,
    "start_time": "2022-11-26T21:33:07.594Z"
   },
   {
    "duration": 302,
    "start_time": "2022-11-26T21:33:07.745Z"
   },
   {
    "duration": 209,
    "start_time": "2022-11-26T21:33:08.048Z"
   },
   {
    "duration": 189,
    "start_time": "2022-11-26T21:33:08.259Z"
   },
   {
    "duration": 189,
    "start_time": "2022-11-26T21:33:08.450Z"
   },
   {
    "duration": 171,
    "start_time": "2022-11-26T21:33:08.641Z"
   },
   {
    "duration": 183,
    "start_time": "2022-11-26T21:33:08.814Z"
   },
   {
    "duration": 210,
    "start_time": "2022-11-26T21:33:08.999Z"
   },
   {
    "duration": 202,
    "start_time": "2022-11-26T21:33:09.210Z"
   },
   {
    "duration": 36,
    "start_time": "2022-11-26T21:33:09.414Z"
   },
   {
    "duration": 203,
    "start_time": "2022-11-26T21:33:09.453Z"
   },
   {
    "duration": 17,
    "start_time": "2022-11-26T21:34:27.651Z"
   },
   {
    "duration": 6,
    "start_time": "2022-11-26T21:35:30.416Z"
   },
   {
    "duration": 2559,
    "start_time": "2022-11-27T09:19:02.268Z"
   },
   {
    "duration": 33,
    "start_time": "2022-11-27T09:19:09.761Z"
   },
   {
    "duration": 2343,
    "start_time": "2022-11-27T09:19:42.795Z"
   },
   {
    "duration": 37,
    "start_time": "2022-11-27T09:19:45.140Z"
   },
   {
    "duration": 43488,
    "start_time": "2022-11-27T09:19:45.178Z"
   },
   {
    "duration": 12,
    "start_time": "2022-11-27T09:20:28.668Z"
   },
   {
    "duration": 55,
    "start_time": "2022-11-27T09:20:28.684Z"
   },
   {
    "duration": 135,
    "start_time": "2022-11-27T09:20:28.752Z"
   },
   {
    "duration": 9,
    "start_time": "2022-11-27T09:20:28.889Z"
   },
   {
    "duration": 106,
    "start_time": "2022-11-27T09:20:28.900Z"
   },
   {
    "duration": 26,
    "start_time": "2022-11-27T09:20:29.009Z"
   },
   {
    "duration": 16,
    "start_time": "2022-11-27T09:20:29.037Z"
   },
   {
    "duration": 12,
    "start_time": "2022-11-27T09:20:29.055Z"
   },
   {
    "duration": 10,
    "start_time": "2022-11-27T09:20:29.069Z"
   },
   {
    "duration": 292,
    "start_time": "2022-11-27T09:20:29.080Z"
   },
   {
    "duration": 4,
    "start_time": "2022-11-27T09:20:29.375Z"
   },
   {
    "duration": 301,
    "start_time": "2022-11-27T09:20:29.381Z"
   },
   {
    "duration": 226,
    "start_time": "2022-11-27T09:20:29.684Z"
   },
   {
    "duration": 375,
    "start_time": "2022-11-27T09:20:29.915Z"
   },
   {
    "duration": 268,
    "start_time": "2022-11-27T09:20:30.292Z"
   },
   {
    "duration": 209,
    "start_time": "2022-11-27T09:20:30.561Z"
   },
   {
    "duration": 170,
    "start_time": "2022-11-27T09:20:30.773Z"
   },
   {
    "duration": 156,
    "start_time": "2022-11-27T09:20:30.945Z"
   },
   {
    "duration": 170,
    "start_time": "2022-11-27T09:20:31.104Z"
   },
   {
    "duration": 154,
    "start_time": "2022-11-27T09:20:31.277Z"
   },
   {
    "duration": 702,
    "start_time": "2022-11-27T09:20:31.433Z"
   },
   {
    "duration": 210,
    "start_time": "2022-11-27T09:20:32.138Z"
   },
   {
    "duration": 152,
    "start_time": "2022-11-27T09:20:32.351Z"
   },
   {
    "duration": 156,
    "start_time": "2022-11-27T09:20:32.505Z"
   },
   {
    "duration": 157,
    "start_time": "2022-11-27T09:20:32.663Z"
   },
   {
    "duration": 162,
    "start_time": "2022-11-27T09:20:32.822Z"
   },
   {
    "duration": 167,
    "start_time": "2022-11-27T09:20:32.986Z"
   },
   {
    "duration": 342,
    "start_time": "2022-11-27T09:20:33.155Z"
   },
   {
    "duration": 225,
    "start_time": "2022-11-27T09:20:33.499Z"
   },
   {
    "duration": 225,
    "start_time": "2022-11-27T09:20:33.726Z"
   },
   {
    "duration": 215,
    "start_time": "2022-11-27T09:20:33.953Z"
   },
   {
    "duration": 248,
    "start_time": "2022-11-27T09:20:34.170Z"
   },
   {
    "duration": 192,
    "start_time": "2022-11-27T09:20:34.420Z"
   },
   {
    "duration": 193,
    "start_time": "2022-11-27T09:20:34.614Z"
   },
   {
    "duration": 197,
    "start_time": "2022-11-27T09:20:34.809Z"
   },
   {
    "duration": 28,
    "start_time": "2022-11-27T09:20:35.008Z"
   },
   {
    "duration": 219,
    "start_time": "2022-11-27T09:20:35.038Z"
   },
   {
    "duration": 149,
    "start_time": "2022-11-27T09:22:01.774Z"
   },
   {
    "duration": 243,
    "start_time": "2022-11-27T09:23:03.219Z"
   },
   {
    "duration": 181,
    "start_time": "2022-11-27T09:23:20.440Z"
   },
   {
    "duration": 123,
    "start_time": "2022-11-27T09:25:32.409Z"
   },
   {
    "duration": 1918,
    "start_time": "2022-11-27T09:27:22.694Z"
   },
   {
    "duration": 25,
    "start_time": "2022-11-27T09:27:51.420Z"
   },
   {
    "duration": 1296,
    "start_time": "2022-11-27T09:28:02.801Z"
   },
   {
    "duration": 232,
    "start_time": "2022-11-27T09:30:11.252Z"
   },
   {
    "duration": 289,
    "start_time": "2022-11-27T09:30:56.045Z"
   },
   {
    "duration": 384,
    "start_time": "2022-11-27T09:32:15.027Z"
   },
   {
    "duration": 74,
    "start_time": "2022-11-27T09:33:50.165Z"
   },
   {
    "duration": 264,
    "start_time": "2022-11-27T09:33:53.959Z"
   },
   {
    "duration": 276,
    "start_time": "2022-11-27T09:34:48.936Z"
   },
   {
    "duration": 298,
    "start_time": "2022-11-27T09:35:40.395Z"
   },
   {
    "duration": 209,
    "start_time": "2022-11-27T09:37:59.729Z"
   },
   {
    "duration": 478,
    "start_time": "2022-11-27T09:38:08.912Z"
   },
   {
    "duration": 172,
    "start_time": "2022-11-27T09:38:22.081Z"
   },
   {
    "duration": 170,
    "start_time": "2022-11-27T09:38:32.367Z"
   },
   {
    "duration": 195,
    "start_time": "2022-11-27T09:38:59.952Z"
   },
   {
    "duration": 2217,
    "start_time": "2022-11-27T12:40:12.038Z"
   },
   {
    "duration": 24,
    "start_time": "2022-11-27T12:40:14.257Z"
   },
   {
    "duration": 38939,
    "start_time": "2022-11-27T12:40:14.282Z"
   },
   {
    "duration": 13,
    "start_time": "2022-11-27T12:40:53.224Z"
   },
   {
    "duration": 44,
    "start_time": "2022-11-27T12:40:53.238Z"
   },
   {
    "duration": 125,
    "start_time": "2022-11-27T12:40:53.283Z"
   },
   {
    "duration": 7,
    "start_time": "2022-11-27T12:40:53.410Z"
   },
   {
    "duration": 92,
    "start_time": "2022-11-27T12:40:53.419Z"
   },
   {
    "duration": 28,
    "start_time": "2022-11-27T12:40:53.513Z"
   },
   {
    "duration": 4,
    "start_time": "2022-11-27T12:40:53.544Z"
   },
   {
    "duration": 7,
    "start_time": "2022-11-27T12:40:53.550Z"
   },
   {
    "duration": 8,
    "start_time": "2022-11-27T12:40:53.559Z"
   },
   {
    "duration": 269,
    "start_time": "2022-11-27T12:40:53.569Z"
   },
   {
    "duration": 5,
    "start_time": "2022-11-27T12:40:53.840Z"
   },
   {
    "duration": 258,
    "start_time": "2022-11-27T12:40:53.847Z"
   },
   {
    "duration": 166,
    "start_time": "2022-11-27T12:40:54.107Z"
   },
   {
    "duration": 301,
    "start_time": "2022-11-27T12:40:54.274Z"
   },
   {
    "duration": 234,
    "start_time": "2022-11-27T12:40:54.577Z"
   },
   {
    "duration": 134,
    "start_time": "2022-11-27T12:40:54.813Z"
   },
   {
    "duration": 137,
    "start_time": "2022-11-27T12:40:54.948Z"
   },
   {
    "duration": 129,
    "start_time": "2022-11-27T12:40:55.087Z"
   },
   {
    "duration": 138,
    "start_time": "2022-11-27T12:40:55.218Z"
   },
   {
    "duration": 134,
    "start_time": "2022-11-27T12:40:55.358Z"
   },
   {
    "duration": 106,
    "start_time": "2022-11-27T12:40:55.494Z"
   },
   {
    "duration": 142,
    "start_time": "2022-11-27T12:40:55.602Z"
   },
   {
    "duration": 215,
    "start_time": "2022-11-27T12:40:55.746Z"
   },
   {
    "duration": 129,
    "start_time": "2022-11-27T12:40:55.962Z"
   },
   {
    "duration": 124,
    "start_time": "2022-11-27T12:40:56.094Z"
   },
   {
    "duration": 133,
    "start_time": "2022-11-27T12:40:56.219Z"
   },
   {
    "duration": 149,
    "start_time": "2022-11-27T12:40:56.354Z"
   },
   {
    "duration": 235,
    "start_time": "2022-11-27T12:40:56.505Z"
   },
   {
    "duration": 240,
    "start_time": "2022-11-27T12:40:56.742Z"
   },
   {
    "duration": 221,
    "start_time": "2022-11-27T12:40:56.983Z"
   },
   {
    "duration": 227,
    "start_time": "2022-11-27T12:40:57.205Z"
   },
   {
    "duration": 155,
    "start_time": "2022-11-27T12:40:57.437Z"
   },
   {
    "duration": 167,
    "start_time": "2022-11-27T12:40:57.593Z"
   },
   {
    "duration": 288,
    "start_time": "2022-11-27T12:40:57.762Z"
   },
   {
    "duration": 168,
    "start_time": "2022-11-27T12:40:58.052Z"
   },
   {
    "duration": 28,
    "start_time": "2022-11-27T12:40:58.222Z"
   },
   {
    "duration": 168,
    "start_time": "2022-11-27T12:40:58.252Z"
   },
   {
    "duration": 15,
    "start_time": "2022-11-27T12:46:33.603Z"
   },
   {
    "duration": 206,
    "start_time": "2022-11-27T12:46:58.390Z"
   },
   {
    "duration": 135,
    "start_time": "2022-11-27T12:47:05.228Z"
   },
   {
    "duration": 220,
    "start_time": "2022-11-27T12:47:09.831Z"
   }
  ],
  "kernelspec": {
   "display_name": "Python 3 (ipykernel)",
   "language": "python",
   "name": "python3"
  },
  "language_info": {
   "codemirror_mode": {
    "name": "ipython",
    "version": 3
   },
   "file_extension": ".py",
   "mimetype": "text/x-python",
   "name": "python",
   "nbconvert_exporter": "python",
   "pygments_lexer": "ipython3",
   "version": "3.9.13"
  },
  "toc": {
   "base_numbering": 1,
   "nav_menu": {},
   "number_sections": true,
   "sideBar": true,
   "skip_h1_title": true,
   "title_cell": "Table of Contents",
   "title_sidebar": "Contents",
   "toc_cell": false,
   "toc_position": {},
   "toc_section_display": true,
   "toc_window_display": true
  }
 },
 "nbformat": 4,
 "nbformat_minor": 2
}
